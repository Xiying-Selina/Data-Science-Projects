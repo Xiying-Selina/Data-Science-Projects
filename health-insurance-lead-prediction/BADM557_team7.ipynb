{
  "nbformat": 4,
  "nbformat_minor": 0,
  "metadata": {
    "colab": {
      "provenance": [],
      "collapsed_sections": [
        "DpMN_ygLE4_2",
        "6mMzfHckIfiy",
        "UC0huLKmmHaL",
        "n-z1vZVdZ3Cm",
        "WPFnA5pai8eU",
        "XvmG9OdgM_Hl",
        "h2k2PtUPTpJ8",
        "NY_IUcm9PgZh",
        "_YI9an54RXtn",
        "C6VfUj7yjcdG",
        "2xS8gzs6kloK",
        "VLheE3olxyzV",
        "Y7ZQRguVksxf",
        "YFWAvoR74XGB"
      ]
    },
    "kernelspec": {
      "name": "python3",
      "display_name": "Python 3"
    },
    "language_info": {
      "name": "python"
    }
  },
  "cells": [
    {
      "cell_type": "markdown",
      "source": [
        "# 1. Data preparation"
      ],
      "metadata": {
        "id": "-WPW2_UOEDz8"
      }
    },
    {
      "cell_type": "markdown",
      "source": [
        "## 1.1 loading packages"
      ],
      "metadata": {
        "id": "DpMN_ygLE4_2"
      }
    },
    {
      "cell_type": "code",
      "source": [
        " pip install dmba"
      ],
      "metadata": {
        "id": "E5tvrhL61tEp",
        "colab": {
          "base_uri": "https://localhost:8080/"
        },
        "outputId": "0332f87a-365a-43db-fc48-bc2d61990dc8"
      },
      "execution_count": null,
      "outputs": [
        {
          "output_type": "stream",
          "name": "stdout",
          "text": [
            "Looking in indexes: https://pypi.org/simple, https://us-python.pkg.dev/colab-wheels/public/simple/\n",
            "Requirement already satisfied: dmba in /usr/local/lib/python3.8/dist-packages (0.1.0)\n"
          ]
        }
      ]
    },
    {
      "cell_type": "code",
      "source": [
        "%matplotlib inline\n",
        "import math\n",
        "import collections\n",
        "import numpy as np\n",
        "import pandas as pd\n",
        "import matplotlib.pyplot as plt\n",
        "import seaborn as sns\n",
        "import missingno as msno\n",
        "import xgboost\n",
        "\n",
        "from sklearn import metrics\n",
        "from sklearn.impute import KNNImputer \n",
        "from sklearn.model_selection import train_test_split, GridSearchCV\n",
        "from sklearn.metrics import accuracy_score, confusion_matrix, classification_report\n",
        "from sklearn.naive_bayes import GaussianNB\n",
        "from sklearn.tree import DecisionTreeClassifier\n",
        "from sklearn.preprocessing import StandardScaler\n",
        "from sklearn.linear_model import LinearRegression, LassoCV, RidgeCV, ElasticNetCV\n",
        "from sklearn.ensemble import RandomForestRegressor\n",
        "from dmba import classificationSummary, adjusted_r2_score, AIC_score, BIC_score, gainsChart, liftChart"
      ],
      "metadata": {
        "id": "SDChM8f4E7iM"
      },
      "execution_count": null,
      "outputs": []
    },
    {
      "cell_type": "markdown",
      "source": [
        "## 1.2 loading data"
      ],
      "metadata": {
        "id": "6mMzfHckIfiy"
      }
    },
    {
      "cell_type": "code",
      "execution_count": null,
      "metadata": {
        "id": "DEyvYh4otnrM",
        "colab": {
          "base_uri": "https://localhost:8080/"
        },
        "outputId": "00719832-dad6-45b2-b23c-98697842c789"
      },
      "outputs": [
        {
          "output_type": "stream",
          "name": "stdout",
          "text": [
            "Drive already mounted at /content/drive/; to attempt to forcibly remount, call drive.mount(\"/content/drive/\", force_remount=True).\n"
          ]
        }
      ],
      "source": [
        "from google.colab import drive\n",
        "drive.mount('/content/drive/')"
      ]
    },
    {
      "cell_type": "code",
      "source": [
        "df=pd.read_csv(\"/content/drive/MyDrive/UIUC/BADM557 team7/Health Insurance Lead Prediction Raw Data.csv\")\n",
        "df.shape"
      ],
      "metadata": {
        "colab": {
          "base_uri": "https://localhost:8080/"
        },
        "id": "p38T4kLfEIMb",
        "outputId": "c7d894af-6904-440c-a3d6-555b8e3731b0"
      },
      "execution_count": null,
      "outputs": [
        {
          "output_type": "execute_result",
          "data": {
            "text/plain": [
              "(50882, 14)"
            ]
          },
          "metadata": {},
          "execution_count": 13
        }
      ]
    },
    {
      "cell_type": "code",
      "source": [
        "df.head()"
      ],
      "metadata": {
        "colab": {
          "base_uri": "https://localhost:8080/",
          "height": 287
        },
        "id": "D_liVCFAGKom",
        "outputId": "3c366a8f-e16f-410f-f3a5-0f53907f6e09"
      },
      "execution_count": null,
      "outputs": [
        {
          "output_type": "execute_result",
          "data": {
            "text/plain": [
              "   ID City_Code  Region_Code Accomodation_Type Reco_Insurance_Type  Upper_Age  \\\n",
              "0   1        C3         3213            Rented          Individual         36   \n",
              "1   2        C5         1117             Owned               Joint         75   \n",
              "2   3        C5         3732             Owned          Individual         32   \n",
              "3   4       C24         4378             Owned               Joint         52   \n",
              "4   5        C8         2190            Rented          Individual         44   \n",
              "\n",
              "   Lower_Age Is_Spouse Health Indicator Holding_Policy_Duration  \\\n",
              "0         36        No               X1                     14+   \n",
              "1         22        No               X2                     NaN   \n",
              "2         32        No              NaN                     1.0   \n",
              "3         48        No               X1                     14+   \n",
              "4         44        No               X2                     3.0   \n",
              "\n",
              "   Holding_Policy_Type  Reco_Policy_Cat  Reco_Policy_Premium  Response  \n",
              "0                  3.0               22              11628.0         0  \n",
              "1                  NaN               22              30510.0         0  \n",
              "2                  1.0               19               7450.0         1  \n",
              "3                  3.0               19              17780.0         0  \n",
              "4                  1.0               16              10404.0         0  "
            ],
            "text/html": [
              "\n",
              "  <div id=\"df-2fe0c5ef-bacd-4db6-b6f8-6aa56ab15556\">\n",
              "    <div class=\"colab-df-container\">\n",
              "      <div>\n",
              "<style scoped>\n",
              "    .dataframe tbody tr th:only-of-type {\n",
              "        vertical-align: middle;\n",
              "    }\n",
              "\n",
              "    .dataframe tbody tr th {\n",
              "        vertical-align: top;\n",
              "    }\n",
              "\n",
              "    .dataframe thead th {\n",
              "        text-align: right;\n",
              "    }\n",
              "</style>\n",
              "<table border=\"1\" class=\"dataframe\">\n",
              "  <thead>\n",
              "    <tr style=\"text-align: right;\">\n",
              "      <th></th>\n",
              "      <th>ID</th>\n",
              "      <th>City_Code</th>\n",
              "      <th>Region_Code</th>\n",
              "      <th>Accomodation_Type</th>\n",
              "      <th>Reco_Insurance_Type</th>\n",
              "      <th>Upper_Age</th>\n",
              "      <th>Lower_Age</th>\n",
              "      <th>Is_Spouse</th>\n",
              "      <th>Health Indicator</th>\n",
              "      <th>Holding_Policy_Duration</th>\n",
              "      <th>Holding_Policy_Type</th>\n",
              "      <th>Reco_Policy_Cat</th>\n",
              "      <th>Reco_Policy_Premium</th>\n",
              "      <th>Response</th>\n",
              "    </tr>\n",
              "  </thead>\n",
              "  <tbody>\n",
              "    <tr>\n",
              "      <th>0</th>\n",
              "      <td>1</td>\n",
              "      <td>C3</td>\n",
              "      <td>3213</td>\n",
              "      <td>Rented</td>\n",
              "      <td>Individual</td>\n",
              "      <td>36</td>\n",
              "      <td>36</td>\n",
              "      <td>No</td>\n",
              "      <td>X1</td>\n",
              "      <td>14+</td>\n",
              "      <td>3.0</td>\n",
              "      <td>22</td>\n",
              "      <td>11628.0</td>\n",
              "      <td>0</td>\n",
              "    </tr>\n",
              "    <tr>\n",
              "      <th>1</th>\n",
              "      <td>2</td>\n",
              "      <td>C5</td>\n",
              "      <td>1117</td>\n",
              "      <td>Owned</td>\n",
              "      <td>Joint</td>\n",
              "      <td>75</td>\n",
              "      <td>22</td>\n",
              "      <td>No</td>\n",
              "      <td>X2</td>\n",
              "      <td>NaN</td>\n",
              "      <td>NaN</td>\n",
              "      <td>22</td>\n",
              "      <td>30510.0</td>\n",
              "      <td>0</td>\n",
              "    </tr>\n",
              "    <tr>\n",
              "      <th>2</th>\n",
              "      <td>3</td>\n",
              "      <td>C5</td>\n",
              "      <td>3732</td>\n",
              "      <td>Owned</td>\n",
              "      <td>Individual</td>\n",
              "      <td>32</td>\n",
              "      <td>32</td>\n",
              "      <td>No</td>\n",
              "      <td>NaN</td>\n",
              "      <td>1.0</td>\n",
              "      <td>1.0</td>\n",
              "      <td>19</td>\n",
              "      <td>7450.0</td>\n",
              "      <td>1</td>\n",
              "    </tr>\n",
              "    <tr>\n",
              "      <th>3</th>\n",
              "      <td>4</td>\n",
              "      <td>C24</td>\n",
              "      <td>4378</td>\n",
              "      <td>Owned</td>\n",
              "      <td>Joint</td>\n",
              "      <td>52</td>\n",
              "      <td>48</td>\n",
              "      <td>No</td>\n",
              "      <td>X1</td>\n",
              "      <td>14+</td>\n",
              "      <td>3.0</td>\n",
              "      <td>19</td>\n",
              "      <td>17780.0</td>\n",
              "      <td>0</td>\n",
              "    </tr>\n",
              "    <tr>\n",
              "      <th>4</th>\n",
              "      <td>5</td>\n",
              "      <td>C8</td>\n",
              "      <td>2190</td>\n",
              "      <td>Rented</td>\n",
              "      <td>Individual</td>\n",
              "      <td>44</td>\n",
              "      <td>44</td>\n",
              "      <td>No</td>\n",
              "      <td>X2</td>\n",
              "      <td>3.0</td>\n",
              "      <td>1.0</td>\n",
              "      <td>16</td>\n",
              "      <td>10404.0</td>\n",
              "      <td>0</td>\n",
              "    </tr>\n",
              "  </tbody>\n",
              "</table>\n",
              "</div>\n",
              "      <button class=\"colab-df-convert\" onclick=\"convertToInteractive('df-2fe0c5ef-bacd-4db6-b6f8-6aa56ab15556')\"\n",
              "              title=\"Convert this dataframe to an interactive table.\"\n",
              "              style=\"display:none;\">\n",
              "        \n",
              "  <svg xmlns=\"http://www.w3.org/2000/svg\" height=\"24px\"viewBox=\"0 0 24 24\"\n",
              "       width=\"24px\">\n",
              "    <path d=\"M0 0h24v24H0V0z\" fill=\"none\"/>\n",
              "    <path d=\"M18.56 5.44l.94 2.06.94-2.06 2.06-.94-2.06-.94-.94-2.06-.94 2.06-2.06.94zm-11 1L8.5 8.5l.94-2.06 2.06-.94-2.06-.94L8.5 2.5l-.94 2.06-2.06.94zm10 10l.94 2.06.94-2.06 2.06-.94-2.06-.94-.94-2.06-.94 2.06-2.06.94z\"/><path d=\"M17.41 7.96l-1.37-1.37c-.4-.4-.92-.59-1.43-.59-.52 0-1.04.2-1.43.59L10.3 9.45l-7.72 7.72c-.78.78-.78 2.05 0 2.83L4 21.41c.39.39.9.59 1.41.59.51 0 1.02-.2 1.41-.59l7.78-7.78 2.81-2.81c.8-.78.8-2.07 0-2.86zM5.41 20L4 18.59l7.72-7.72 1.47 1.35L5.41 20z\"/>\n",
              "  </svg>\n",
              "      </button>\n",
              "      \n",
              "  <style>\n",
              "    .colab-df-container {\n",
              "      display:flex;\n",
              "      flex-wrap:wrap;\n",
              "      gap: 12px;\n",
              "    }\n",
              "\n",
              "    .colab-df-convert {\n",
              "      background-color: #E8F0FE;\n",
              "      border: none;\n",
              "      border-radius: 50%;\n",
              "      cursor: pointer;\n",
              "      display: none;\n",
              "      fill: #1967D2;\n",
              "      height: 32px;\n",
              "      padding: 0 0 0 0;\n",
              "      width: 32px;\n",
              "    }\n",
              "\n",
              "    .colab-df-convert:hover {\n",
              "      background-color: #E2EBFA;\n",
              "      box-shadow: 0px 1px 2px rgba(60, 64, 67, 0.3), 0px 1px 3px 1px rgba(60, 64, 67, 0.15);\n",
              "      fill: #174EA6;\n",
              "    }\n",
              "\n",
              "    [theme=dark] .colab-df-convert {\n",
              "      background-color: #3B4455;\n",
              "      fill: #D2E3FC;\n",
              "    }\n",
              "\n",
              "    [theme=dark] .colab-df-convert:hover {\n",
              "      background-color: #434B5C;\n",
              "      box-shadow: 0px 1px 3px 1px rgba(0, 0, 0, 0.15);\n",
              "      filter: drop-shadow(0px 1px 2px rgba(0, 0, 0, 0.3));\n",
              "      fill: #FFFFFF;\n",
              "    }\n",
              "  </style>\n",
              "\n",
              "      <script>\n",
              "        const buttonEl =\n",
              "          document.querySelector('#df-2fe0c5ef-bacd-4db6-b6f8-6aa56ab15556 button.colab-df-convert');\n",
              "        buttonEl.style.display =\n",
              "          google.colab.kernel.accessAllowed ? 'block' : 'none';\n",
              "\n",
              "        async function convertToInteractive(key) {\n",
              "          const element = document.querySelector('#df-2fe0c5ef-bacd-4db6-b6f8-6aa56ab15556');\n",
              "          const dataTable =\n",
              "            await google.colab.kernel.invokeFunction('convertToInteractive',\n",
              "                                                     [key], {});\n",
              "          if (!dataTable) return;\n",
              "\n",
              "          const docLinkHtml = 'Like what you see? Visit the ' +\n",
              "            '<a target=\"_blank\" href=https://colab.research.google.com/notebooks/data_table.ipynb>data table notebook</a>'\n",
              "            + ' to learn more about interactive tables.';\n",
              "          element.innerHTML = '';\n",
              "          dataTable['output_type'] = 'display_data';\n",
              "          await google.colab.output.renderOutput(dataTable, element);\n",
              "          const docLink = document.createElement('div');\n",
              "          docLink.innerHTML = docLinkHtml;\n",
              "          element.appendChild(docLink);\n",
              "        }\n",
              "      </script>\n",
              "    </div>\n",
              "  </div>\n",
              "  "
            ]
          },
          "metadata": {},
          "execution_count": 14
        }
      ]
    },
    {
      "cell_type": "code",
      "source": [
        "df.describe()"
      ],
      "metadata": {
        "colab": {
          "base_uri": "https://localhost:8080/",
          "height": 300
        },
        "id": "xDgGfCMFHBZh",
        "outputId": "afb26655-653e-4a04-e298-9625877956d5"
      },
      "execution_count": null,
      "outputs": [
        {
          "output_type": "execute_result",
          "data": {
            "text/plain": [
              "                 ID   Region_Code     Upper_Age     Lower_Age  \\\n",
              "count  50882.000000  50882.000000  50882.000000  50882.000000   \n",
              "mean   25441.500000   1732.788707     44.856275     42.738866   \n",
              "std    14688.512535   1424.081652     17.310271     17.319375   \n",
              "min        1.000000      1.000000     18.000000     16.000000   \n",
              "25%    12721.250000    523.000000     28.000000     27.000000   \n",
              "50%    25441.500000   1391.000000     44.000000     40.000000   \n",
              "75%    38161.750000   2667.000000     59.000000     57.000000   \n",
              "max    50882.000000   6194.000000     75.000000     75.000000   \n",
              "\n",
              "       Holding_Policy_Type  Reco_Policy_Cat  Reco_Policy_Premium      Response  \n",
              "count         30631.000000     50882.000000         50882.000000  50882.000000  \n",
              "mean              2.439228        15.115188         14183.950069      0.239947  \n",
              "std               1.025923         6.340663          6590.074873      0.427055  \n",
              "min               1.000000         1.000000          2280.000000      0.000000  \n",
              "25%               1.000000        12.000000          9248.000000      0.000000  \n",
              "50%               3.000000        17.000000         13178.000000      0.000000  \n",
              "75%               3.000000        20.000000         18096.000000      0.000000  \n",
              "max               4.000000        22.000000         43350.400000      1.000000  "
            ],
            "text/html": [
              "\n",
              "  <div id=\"df-c19ac5ab-9376-46fc-87ce-c51837ce747b\">\n",
              "    <div class=\"colab-df-container\">\n",
              "      <div>\n",
              "<style scoped>\n",
              "    .dataframe tbody tr th:only-of-type {\n",
              "        vertical-align: middle;\n",
              "    }\n",
              "\n",
              "    .dataframe tbody tr th {\n",
              "        vertical-align: top;\n",
              "    }\n",
              "\n",
              "    .dataframe thead th {\n",
              "        text-align: right;\n",
              "    }\n",
              "</style>\n",
              "<table border=\"1\" class=\"dataframe\">\n",
              "  <thead>\n",
              "    <tr style=\"text-align: right;\">\n",
              "      <th></th>\n",
              "      <th>ID</th>\n",
              "      <th>Region_Code</th>\n",
              "      <th>Upper_Age</th>\n",
              "      <th>Lower_Age</th>\n",
              "      <th>Holding_Policy_Type</th>\n",
              "      <th>Reco_Policy_Cat</th>\n",
              "      <th>Reco_Policy_Premium</th>\n",
              "      <th>Response</th>\n",
              "    </tr>\n",
              "  </thead>\n",
              "  <tbody>\n",
              "    <tr>\n",
              "      <th>count</th>\n",
              "      <td>50882.000000</td>\n",
              "      <td>50882.000000</td>\n",
              "      <td>50882.000000</td>\n",
              "      <td>50882.000000</td>\n",
              "      <td>30631.000000</td>\n",
              "      <td>50882.000000</td>\n",
              "      <td>50882.000000</td>\n",
              "      <td>50882.000000</td>\n",
              "    </tr>\n",
              "    <tr>\n",
              "      <th>mean</th>\n",
              "      <td>25441.500000</td>\n",
              "      <td>1732.788707</td>\n",
              "      <td>44.856275</td>\n",
              "      <td>42.738866</td>\n",
              "      <td>2.439228</td>\n",
              "      <td>15.115188</td>\n",
              "      <td>14183.950069</td>\n",
              "      <td>0.239947</td>\n",
              "    </tr>\n",
              "    <tr>\n",
              "      <th>std</th>\n",
              "      <td>14688.512535</td>\n",
              "      <td>1424.081652</td>\n",
              "      <td>17.310271</td>\n",
              "      <td>17.319375</td>\n",
              "      <td>1.025923</td>\n",
              "      <td>6.340663</td>\n",
              "      <td>6590.074873</td>\n",
              "      <td>0.427055</td>\n",
              "    </tr>\n",
              "    <tr>\n",
              "      <th>min</th>\n",
              "      <td>1.000000</td>\n",
              "      <td>1.000000</td>\n",
              "      <td>18.000000</td>\n",
              "      <td>16.000000</td>\n",
              "      <td>1.000000</td>\n",
              "      <td>1.000000</td>\n",
              "      <td>2280.000000</td>\n",
              "      <td>0.000000</td>\n",
              "    </tr>\n",
              "    <tr>\n",
              "      <th>25%</th>\n",
              "      <td>12721.250000</td>\n",
              "      <td>523.000000</td>\n",
              "      <td>28.000000</td>\n",
              "      <td>27.000000</td>\n",
              "      <td>1.000000</td>\n",
              "      <td>12.000000</td>\n",
              "      <td>9248.000000</td>\n",
              "      <td>0.000000</td>\n",
              "    </tr>\n",
              "    <tr>\n",
              "      <th>50%</th>\n",
              "      <td>25441.500000</td>\n",
              "      <td>1391.000000</td>\n",
              "      <td>44.000000</td>\n",
              "      <td>40.000000</td>\n",
              "      <td>3.000000</td>\n",
              "      <td>17.000000</td>\n",
              "      <td>13178.000000</td>\n",
              "      <td>0.000000</td>\n",
              "    </tr>\n",
              "    <tr>\n",
              "      <th>75%</th>\n",
              "      <td>38161.750000</td>\n",
              "      <td>2667.000000</td>\n",
              "      <td>59.000000</td>\n",
              "      <td>57.000000</td>\n",
              "      <td>3.000000</td>\n",
              "      <td>20.000000</td>\n",
              "      <td>18096.000000</td>\n",
              "      <td>0.000000</td>\n",
              "    </tr>\n",
              "    <tr>\n",
              "      <th>max</th>\n",
              "      <td>50882.000000</td>\n",
              "      <td>6194.000000</td>\n",
              "      <td>75.000000</td>\n",
              "      <td>75.000000</td>\n",
              "      <td>4.000000</td>\n",
              "      <td>22.000000</td>\n",
              "      <td>43350.400000</td>\n",
              "      <td>1.000000</td>\n",
              "    </tr>\n",
              "  </tbody>\n",
              "</table>\n",
              "</div>\n",
              "      <button class=\"colab-df-convert\" onclick=\"convertToInteractive('df-c19ac5ab-9376-46fc-87ce-c51837ce747b')\"\n",
              "              title=\"Convert this dataframe to an interactive table.\"\n",
              "              style=\"display:none;\">\n",
              "        \n",
              "  <svg xmlns=\"http://www.w3.org/2000/svg\" height=\"24px\"viewBox=\"0 0 24 24\"\n",
              "       width=\"24px\">\n",
              "    <path d=\"M0 0h24v24H0V0z\" fill=\"none\"/>\n",
              "    <path d=\"M18.56 5.44l.94 2.06.94-2.06 2.06-.94-2.06-.94-.94-2.06-.94 2.06-2.06.94zm-11 1L8.5 8.5l.94-2.06 2.06-.94-2.06-.94L8.5 2.5l-.94 2.06-2.06.94zm10 10l.94 2.06.94-2.06 2.06-.94-2.06-.94-.94-2.06-.94 2.06-2.06.94z\"/><path d=\"M17.41 7.96l-1.37-1.37c-.4-.4-.92-.59-1.43-.59-.52 0-1.04.2-1.43.59L10.3 9.45l-7.72 7.72c-.78.78-.78 2.05 0 2.83L4 21.41c.39.39.9.59 1.41.59.51 0 1.02-.2 1.41-.59l7.78-7.78 2.81-2.81c.8-.78.8-2.07 0-2.86zM5.41 20L4 18.59l7.72-7.72 1.47 1.35L5.41 20z\"/>\n",
              "  </svg>\n",
              "      </button>\n",
              "      \n",
              "  <style>\n",
              "    .colab-df-container {\n",
              "      display:flex;\n",
              "      flex-wrap:wrap;\n",
              "      gap: 12px;\n",
              "    }\n",
              "\n",
              "    .colab-df-convert {\n",
              "      background-color: #E8F0FE;\n",
              "      border: none;\n",
              "      border-radius: 50%;\n",
              "      cursor: pointer;\n",
              "      display: none;\n",
              "      fill: #1967D2;\n",
              "      height: 32px;\n",
              "      padding: 0 0 0 0;\n",
              "      width: 32px;\n",
              "    }\n",
              "\n",
              "    .colab-df-convert:hover {\n",
              "      background-color: #E2EBFA;\n",
              "      box-shadow: 0px 1px 2px rgba(60, 64, 67, 0.3), 0px 1px 3px 1px rgba(60, 64, 67, 0.15);\n",
              "      fill: #174EA6;\n",
              "    }\n",
              "\n",
              "    [theme=dark] .colab-df-convert {\n",
              "      background-color: #3B4455;\n",
              "      fill: #D2E3FC;\n",
              "    }\n",
              "\n",
              "    [theme=dark] .colab-df-convert:hover {\n",
              "      background-color: #434B5C;\n",
              "      box-shadow: 0px 1px 3px 1px rgba(0, 0, 0, 0.15);\n",
              "      filter: drop-shadow(0px 1px 2px rgba(0, 0, 0, 0.3));\n",
              "      fill: #FFFFFF;\n",
              "    }\n",
              "  </style>\n",
              "\n",
              "      <script>\n",
              "        const buttonEl =\n",
              "          document.querySelector('#df-c19ac5ab-9376-46fc-87ce-c51837ce747b button.colab-df-convert');\n",
              "        buttonEl.style.display =\n",
              "          google.colab.kernel.accessAllowed ? 'block' : 'none';\n",
              "\n",
              "        async function convertToInteractive(key) {\n",
              "          const element = document.querySelector('#df-c19ac5ab-9376-46fc-87ce-c51837ce747b');\n",
              "          const dataTable =\n",
              "            await google.colab.kernel.invokeFunction('convertToInteractive',\n",
              "                                                     [key], {});\n",
              "          if (!dataTable) return;\n",
              "\n",
              "          const docLinkHtml = 'Like what you see? Visit the ' +\n",
              "            '<a target=\"_blank\" href=https://colab.research.google.com/notebooks/data_table.ipynb>data table notebook</a>'\n",
              "            + ' to learn more about interactive tables.';\n",
              "          element.innerHTML = '';\n",
              "          dataTable['output_type'] = 'display_data';\n",
              "          await google.colab.output.renderOutput(dataTable, element);\n",
              "          const docLink = document.createElement('div');\n",
              "          docLink.innerHTML = docLinkHtml;\n",
              "          element.appendChild(docLink);\n",
              "        }\n",
              "      </script>\n",
              "    </div>\n",
              "  </div>\n",
              "  "
            ]
          },
          "metadata": {},
          "execution_count": 15
        }
      ]
    },
    {
      "cell_type": "code",
      "source": [
        "df.info()"
      ],
      "metadata": {
        "colab": {
          "base_uri": "https://localhost:8080/"
        },
        "id": "e6bHlEkWG31x",
        "outputId": "32c22743-53d8-47c4-993d-a9f5b3b35654"
      },
      "execution_count": null,
      "outputs": [
        {
          "output_type": "stream",
          "name": "stdout",
          "text": [
            "<class 'pandas.core.frame.DataFrame'>\n",
            "RangeIndex: 50882 entries, 0 to 50881\n",
            "Data columns (total 14 columns):\n",
            " #   Column                   Non-Null Count  Dtype  \n",
            "---  ------                   --------------  -----  \n",
            " 0   ID                       50882 non-null  int64  \n",
            " 1   City_Code                50882 non-null  object \n",
            " 2   Region_Code              50882 non-null  int64  \n",
            " 3   Accomodation_Type        50882 non-null  object \n",
            " 4   Reco_Insurance_Type      50882 non-null  object \n",
            " 5   Upper_Age                50882 non-null  int64  \n",
            " 6   Lower_Age                50882 non-null  int64  \n",
            " 7   Is_Spouse                50882 non-null  object \n",
            " 8   Health Indicator         39191 non-null  object \n",
            " 9   Holding_Policy_Duration  30631 non-null  object \n",
            " 10  Holding_Policy_Type      30631 non-null  float64\n",
            " 11  Reco_Policy_Cat          50882 non-null  int64  \n",
            " 12  Reco_Policy_Premium      50882 non-null  float64\n",
            " 13  Response                 50882 non-null  int64  \n",
            "dtypes: float64(2), int64(6), object(6)\n",
            "memory usage: 5.4+ MB\n"
          ]
        }
      ]
    },
    {
      "cell_type": "markdown",
      "source": [
        "# 2. Exploratory data analysis"
      ],
      "metadata": {
        "id": "wcbgmxl-IkNZ"
      }
    },
    {
      "cell_type": "markdown",
      "source": [
        "## 2.1Missing value"
      ],
      "metadata": {
        "id": "UC0huLKmmHaL"
      }
    },
    {
      "cell_type": "code",
      "source": [
        "# percentage of null values of each feature\n",
        "feature_nulls = (df.isnull().sum() / df.shape[0])*100\n",
        "feature_nulls"
      ],
      "metadata": {
        "colab": {
          "base_uri": "https://localhost:8080/"
        },
        "id": "L6GF7x0zmhh9",
        "outputId": "14a8b0ac-ed61-43d6-c8ed-d99f8d935de6"
      },
      "execution_count": null,
      "outputs": [
        {
          "output_type": "execute_result",
          "data": {
            "text/plain": [
              "ID                          0.000000\n",
              "City_Code                   0.000000\n",
              "Region_Code                 0.000000\n",
              "Accomodation_Type           0.000000\n",
              "Reco_Insurance_Type         0.000000\n",
              "Upper_Age                   0.000000\n",
              "Lower_Age                   0.000000\n",
              "Is_Spouse                   0.000000\n",
              "Health Indicator           22.976691\n",
              "Holding_Policy_Duration    39.799929\n",
              "Holding_Policy_Type        39.799929\n",
              "Reco_Policy_Cat             0.000000\n",
              "Reco_Policy_Premium         0.000000\n",
              "Response                    0.000000\n",
              "dtype: float64"
            ]
          },
          "metadata": {},
          "execution_count": 17
        }
      ]
    },
    {
      "cell_type": "code",
      "source": [
        "df['Health Indicator'].value_counts()"
      ],
      "metadata": {
        "colab": {
          "base_uri": "https://localhost:8080/"
        },
        "id": "E-8uNV-480nZ",
        "outputId": "686a1fd7-7776-49cc-a0eb-0ba565769a31"
      },
      "execution_count": null,
      "outputs": [
        {
          "output_type": "execute_result",
          "data": {
            "text/plain": [
              "X1    13010\n",
              "X2    10332\n",
              "X3     6762\n",
              "X4     5743\n",
              "X5     1727\n",
              "X6     1280\n",
              "X7      196\n",
              "X8       78\n",
              "X9       63\n",
              "Name: Health Indicator, dtype: int64"
            ]
          },
          "metadata": {},
          "execution_count": 18
        }
      ]
    },
    {
      "cell_type": "markdown",
      "source": [
        "As there are around 40% null values, we will omit the variables Holding_Policy_Duration and Holding_Policy_Type"
      ],
      "metadata": {
        "id": "6MB_W2xhtIvn"
      }
    },
    {
      "cell_type": "markdown",
      "source": [
        "## 2.2 Heatmap"
      ],
      "metadata": {
        "id": "9y6vmFKRo3TO"
      }
    },
    {
      "cell_type": "code",
      "source": [
        "df_corr = df.corr().round(2)\n",
        "plt.figure(figsize=(10, 8))\n",
        "sns.heatmap(df_corr, annot=True, cmap='YlOrBr')\n",
        "plt.title('Heatmap of Correlation',fontsize=22)\n",
        "plt.show()"
      ],
      "metadata": {
        "id": "xXfEkrBso2oH",
        "colab": {
          "base_uri": "https://localhost:8080/",
          "height": 602
        },
        "outputId": "8a188af1-a0c5-4b7e-fd2a-c1689abd5c8b"
      },
      "execution_count": null,
      "outputs": [
        {
          "output_type": "display_data",
          "data": {
            "text/plain": [
              "<Figure size 720x576 with 2 Axes>"
            ],
            "image/png": "[encoded data removed]"
          },
          "metadata": {
            "needs_background": "light"
          }
        }
      ]
    },
    {
      "cell_type": "markdown",
      "source": [
        "From the heatmap, there are two noticeable points:\n",
        "\n",
        "*   there is a strong correlation between the Lower_Age variable and the Upper_Age variable,\n",
        "*   Upper_Age variable has a considerable correlation with the Reco_Policy_Premium variable,\n",
        "\n",
        "so we can remove the Upper_Age variable and solve the correlation problem."
      ],
      "metadata": {
        "id": "SsGdu_DCEe0Z"
      }
    },
    {
      "cell_type": "code",
      "source": [
        "df = df.drop(columns='Upper_Age')\n",
        "df"
      ],
      "metadata": {
        "colab": {
          "base_uri": "https://localhost:8080/",
          "height": 505
        },
        "id": "NmkFaszX1MLj",
        "outputId": "68f1b9fd-28a5-4b2d-ddb4-ecc472908537"
      },
      "execution_count": null,
      "outputs": [
        {
          "output_type": "execute_result",
          "data": {
            "text/plain": [
              "          ID City_Code  Region_Code Accomodation_Type Reco_Insurance_Type  \\\n",
              "0          1        C3         3213            Rented          Individual   \n",
              "1          2        C5         1117             Owned               Joint   \n",
              "2          3        C5         3732             Owned          Individual   \n",
              "3          4       C24         4378             Owned               Joint   \n",
              "4          5        C8         2190            Rented          Individual   \n",
              "...      ...       ...          ...               ...                 ...   \n",
              "50877  50878        C4          845            Rented          Individual   \n",
              "50878  50879        C5         4188            Rented          Individual   \n",
              "50879  50880        C1          442            Rented          Individual   \n",
              "50880  50881        C1            4             Owned               Joint   \n",
              "50881  50882        C3         3866            Rented          Individual   \n",
              "\n",
              "       Lower_Age Is_Spouse Health Indicator Holding_Policy_Duration  \\\n",
              "0             36        No               X1                     14+   \n",
              "1             22        No               X2                     NaN   \n",
              "2             32        No              NaN                     1.0   \n",
              "3             48        No               X1                     14+   \n",
              "4             44        No               X2                     3.0   \n",
              "...          ...       ...              ...                     ...   \n",
              "50877         22        No               X3                     NaN   \n",
              "50878         27        No               X3                     7.0   \n",
              "50879         63        No               X2                     14+   \n",
              "50880         49        No               X2                     2.0   \n",
              "50881         24        No               X3                     2.0   \n",
              "\n",
              "       Holding_Policy_Type  Reco_Policy_Cat  Reco_Policy_Premium  Response  \n",
              "0                      3.0               22              11628.0         0  \n",
              "1                      NaN               22              30510.0         0  \n",
              "2                      1.0               19               7450.0         1  \n",
              "3                      3.0               19              17780.0         0  \n",
              "4                      1.0               16              10404.0         0  \n",
              "...                    ...              ...                  ...       ...  \n",
              "50877                  NaN               18               7704.0         0  \n",
              "50878                  3.0                4               5408.0         0  \n",
              "50879                  1.0               12              11374.0         0  \n",
              "50880                  2.0               16              28179.2         1  \n",
              "50881                  3.0               18              11424.0         0  \n",
              "\n",
              "[50882 rows x 13 columns]"
            ],
            "text/html": [
              "\n",
              "  <div id=\"df-c8d10a31-10fd-4459-921a-0ee9ebc9417c\">\n",
              "    <div class=\"colab-df-container\">\n",
              "      <div>\n",
              "<style scoped>\n",
              "    .dataframe tbody tr th:only-of-type {\n",
              "        vertical-align: middle;\n",
              "    }\n",
              "\n",
              "    .dataframe tbody tr th {\n",
              "        vertical-align: top;\n",
              "    }\n",
              "\n",
              "    .dataframe thead th {\n",
              "        text-align: right;\n",
              "    }\n",
              "</style>\n",
              "<table border=\"1\" class=\"dataframe\">\n",
              "  <thead>\n",
              "    <tr style=\"text-align: right;\">\n",
              "      <th></th>\n",
              "      <th>ID</th>\n",
              "      <th>City_Code</th>\n",
              "      <th>Region_Code</th>\n",
              "      <th>Accomodation_Type</th>\n",
              "      <th>Reco_Insurance_Type</th>\n",
              "      <th>Lower_Age</th>\n",
              "      <th>Is_Spouse</th>\n",
              "      <th>Health Indicator</th>\n",
              "      <th>Holding_Policy_Duration</th>\n",
              "      <th>Holding_Policy_Type</th>\n",
              "      <th>Reco_Policy_Cat</th>\n",
              "      <th>Reco_Policy_Premium</th>\n",
              "      <th>Response</th>\n",
              "    </tr>\n",
              "  </thead>\n",
              "  <tbody>\n",
              "    <tr>\n",
              "      <th>0</th>\n",
              "      <td>1</td>\n",
              "      <td>C3</td>\n",
              "      <td>3213</td>\n",
              "      <td>Rented</td>\n",
              "      <td>Individual</td>\n",
              "      <td>36</td>\n",
              "      <td>No</td>\n",
              "      <td>X1</td>\n",
              "      <td>14+</td>\n",
              "      <td>3.0</td>\n",
              "      <td>22</td>\n",
              "      <td>11628.0</td>\n",
              "      <td>0</td>\n",
              "    </tr>\n",
              "    <tr>\n",
              "      <th>1</th>\n",
              "      <td>2</td>\n",
              "      <td>C5</td>\n",
              "      <td>1117</td>\n",
              "      <td>Owned</td>\n",
              "      <td>Joint</td>\n",
              "      <td>22</td>\n",
              "      <td>No</td>\n",
              "      <td>X2</td>\n",
              "      <td>NaN</td>\n",
              "      <td>NaN</td>\n",
              "      <td>22</td>\n",
              "      <td>30510.0</td>\n",
              "      <td>0</td>\n",
              "    </tr>\n",
              "    <tr>\n",
              "      <th>2</th>\n",
              "      <td>3</td>\n",
              "      <td>C5</td>\n",
              "      <td>3732</td>\n",
              "      <td>Owned</td>\n",
              "      <td>Individual</td>\n",
              "      <td>32</td>\n",
              "      <td>No</td>\n",
              "      <td>NaN</td>\n",
              "      <td>1.0</td>\n",
              "      <td>1.0</td>\n",
              "      <td>19</td>\n",
              "      <td>7450.0</td>\n",
              "      <td>1</td>\n",
              "    </tr>\n",
              "    <tr>\n",
              "      <th>3</th>\n",
              "      <td>4</td>\n",
              "      <td>C24</td>\n",
              "      <td>4378</td>\n",
              "      <td>Owned</td>\n",
              "      <td>Joint</td>\n",
              "      <td>48</td>\n",
              "      <td>No</td>\n",
              "      <td>X1</td>\n",
              "      <td>14+</td>\n",
              "      <td>3.0</td>\n",
              "      <td>19</td>\n",
              "      <td>17780.0</td>\n",
              "      <td>0</td>\n",
              "    </tr>\n",
              "    <tr>\n",
              "      <th>4</th>\n",
              "      <td>5</td>\n",
              "      <td>C8</td>\n",
              "      <td>2190</td>\n",
              "      <td>Rented</td>\n",
              "      <td>Individual</td>\n",
              "      <td>44</td>\n",
              "      <td>No</td>\n",
              "      <td>X2</td>\n",
              "      <td>3.0</td>\n",
              "      <td>1.0</td>\n",
              "      <td>16</td>\n",
              "      <td>10404.0</td>\n",
              "      <td>0</td>\n",
              "    </tr>\n",
              "    <tr>\n",
              "      <th>...</th>\n",
              "      <td>...</td>\n",
              "      <td>...</td>\n",
              "      <td>...</td>\n",
              "      <td>...</td>\n",
              "      <td>...</td>\n",
              "      <td>...</td>\n",
              "      <td>...</td>\n",
              "      <td>...</td>\n",
              "      <td>...</td>\n",
              "      <td>...</td>\n",
              "      <td>...</td>\n",
              "      <td>...</td>\n",
              "      <td>...</td>\n",
              "    </tr>\n",
              "    <tr>\n",
              "      <th>50877</th>\n",
              "      <td>50878</td>\n",
              "      <td>C4</td>\n",
              "      <td>845</td>\n",
              "      <td>Rented</td>\n",
              "      <td>Individual</td>\n",
              "      <td>22</td>\n",
              "      <td>No</td>\n",
              "      <td>X3</td>\n",
              "      <td>NaN</td>\n",
              "      <td>NaN</td>\n",
              "      <td>18</td>\n",
              "      <td>7704.0</td>\n",
              "      <td>0</td>\n",
              "    </tr>\n",
              "    <tr>\n",
              "      <th>50878</th>\n",
              "      <td>50879</td>\n",
              "      <td>C5</td>\n",
              "      <td>4188</td>\n",
              "      <td>Rented</td>\n",
              "      <td>Individual</td>\n",
              "      <td>27</td>\n",
              "      <td>No</td>\n",
              "      <td>X3</td>\n",
              "      <td>7.0</td>\n",
              "      <td>3.0</td>\n",
              "      <td>4</td>\n",
              "      <td>5408.0</td>\n",
              "      <td>0</td>\n",
              "    </tr>\n",
              "    <tr>\n",
              "      <th>50879</th>\n",
              "      <td>50880</td>\n",
              "      <td>C1</td>\n",
              "      <td>442</td>\n",
              "      <td>Rented</td>\n",
              "      <td>Individual</td>\n",
              "      <td>63</td>\n",
              "      <td>No</td>\n",
              "      <td>X2</td>\n",
              "      <td>14+</td>\n",
              "      <td>1.0</td>\n",
              "      <td>12</td>\n",
              "      <td>11374.0</td>\n",
              "      <td>0</td>\n",
              "    </tr>\n",
              "    <tr>\n",
              "      <th>50880</th>\n",
              "      <td>50881</td>\n",
              "      <td>C1</td>\n",
              "      <td>4</td>\n",
              "      <td>Owned</td>\n",
              "      <td>Joint</td>\n",
              "      <td>49</td>\n",
              "      <td>No</td>\n",
              "      <td>X2</td>\n",
              "      <td>2.0</td>\n",
              "      <td>2.0</td>\n",
              "      <td>16</td>\n",
              "      <td>28179.2</td>\n",
              "      <td>1</td>\n",
              "    </tr>\n",
              "    <tr>\n",
              "      <th>50881</th>\n",
              "      <td>50882</td>\n",
              "      <td>C3</td>\n",
              "      <td>3866</td>\n",
              "      <td>Rented</td>\n",
              "      <td>Individual</td>\n",
              "      <td>24</td>\n",
              "      <td>No</td>\n",
              "      <td>X3</td>\n",
              "      <td>2.0</td>\n",
              "      <td>3.0</td>\n",
              "      <td>18</td>\n",
              "      <td>11424.0</td>\n",
              "      <td>0</td>\n",
              "    </tr>\n",
              "  </tbody>\n",
              "</table>\n",
              "<p>50882 rows × 13 columns</p>\n",
              "</div>\n",
              "      <button class=\"colab-df-convert\" onclick=\"convertToInteractive('df-c8d10a31-10fd-4459-921a-0ee9ebc9417c')\"\n",
              "              title=\"Convert this dataframe to an interactive table.\"\n",
              "              style=\"display:none;\">\n",
              "        \n",
              "  <svg xmlns=\"http://www.w3.org/2000/svg\" height=\"24px\"viewBox=\"0 0 24 24\"\n",
              "       width=\"24px\">\n",
              "    <path d=\"M0 0h24v24H0V0z\" fill=\"none\"/>\n",
              "    <path d=\"M18.56 5.44l.94 2.06.94-2.06 2.06-.94-2.06-.94-.94-2.06-.94 2.06-2.06.94zm-11 1L8.5 8.5l.94-2.06 2.06-.94-2.06-.94L8.5 2.5l-.94 2.06-2.06.94zm10 10l.94 2.06.94-2.06 2.06-.94-2.06-.94-.94-2.06-.94 2.06-2.06.94z\"/><path d=\"M17.41 7.96l-1.37-1.37c-.4-.4-.92-.59-1.43-.59-.52 0-1.04.2-1.43.59L10.3 9.45l-7.72 7.72c-.78.78-.78 2.05 0 2.83L4 21.41c.39.39.9.59 1.41.59.51 0 1.02-.2 1.41-.59l7.78-7.78 2.81-2.81c.8-.78.8-2.07 0-2.86zM5.41 20L4 18.59l7.72-7.72 1.47 1.35L5.41 20z\"/>\n",
              "  </svg>\n",
              "      </button>\n",
              "      \n",
              "  <style>\n",
              "    .colab-df-container {\n",
              "      display:flex;\n",
              "      flex-wrap:wrap;\n",
              "      gap: 12px;\n",
              "    }\n",
              "\n",
              "    .colab-df-convert {\n",
              "      background-color: #E8F0FE;\n",
              "      border: none;\n",
              "      border-radius: 50%;\n",
              "      cursor: pointer;\n",
              "      display: none;\n",
              "      fill: #1967D2;\n",
              "      height: 32px;\n",
              "      padding: 0 0 0 0;\n",
              "      width: 32px;\n",
              "    }\n",
              "\n",
              "    .colab-df-convert:hover {\n",
              "      background-color: #E2EBFA;\n",
              "      box-shadow: 0px 1px 2px rgba(60, 64, 67, 0.3), 0px 1px 3px 1px rgba(60, 64, 67, 0.15);\n",
              "      fill: #174EA6;\n",
              "    }\n",
              "\n",
              "    [theme=dark] .colab-df-convert {\n",
              "      background-color: #3B4455;\n",
              "      fill: #D2E3FC;\n",
              "    }\n",
              "\n",
              "    [theme=dark] .colab-df-convert:hover {\n",
              "      background-color: #434B5C;\n",
              "      box-shadow: 0px 1px 3px 1px rgba(0, 0, 0, 0.15);\n",
              "      filter: drop-shadow(0px 1px 2px rgba(0, 0, 0, 0.3));\n",
              "      fill: #FFFFFF;\n",
              "    }\n",
              "  </style>\n",
              "\n",
              "      <script>\n",
              "        const buttonEl =\n",
              "          document.querySelector('#df-c8d10a31-10fd-4459-921a-0ee9ebc9417c button.colab-df-convert');\n",
              "        buttonEl.style.display =\n",
              "          google.colab.kernel.accessAllowed ? 'block' : 'none';\n",
              "\n",
              "        async function convertToInteractive(key) {\n",
              "          const element = document.querySelector('#df-c8d10a31-10fd-4459-921a-0ee9ebc9417c');\n",
              "          const dataTable =\n",
              "            await google.colab.kernel.invokeFunction('convertToInteractive',\n",
              "                                                     [key], {});\n",
              "          if (!dataTable) return;\n",
              "\n",
              "          const docLinkHtml = 'Like what you see? Visit the ' +\n",
              "            '<a target=\"_blank\" href=https://colab.research.google.com/notebooks/data_table.ipynb>data table notebook</a>'\n",
              "            + ' to learn more about interactive tables.';\n",
              "          element.innerHTML = '';\n",
              "          dataTable['output_type'] = 'display_data';\n",
              "          await google.colab.output.renderOutput(dataTable, element);\n",
              "          const docLink = document.createElement('div');\n",
              "          docLink.innerHTML = docLinkHtml;\n",
              "          element.appendChild(docLink);\n",
              "        }\n",
              "      </script>\n",
              "    </div>\n",
              "  </div>\n",
              "  "
            ]
          },
          "metadata": {},
          "execution_count": 20
        }
      ]
    },
    {
      "cell_type": "markdown",
      "source": [
        "# 3. Features Selection & Data Preparation"
      ],
      "metadata": {
        "id": "PYlG1E1RYKKJ"
      }
    },
    {
      "cell_type": "markdown",
      "source": [
        "### 3.1 Catgorical & numerial"
      ],
      "metadata": {
        "id": "n-z1vZVdZ3Cm"
      }
    },
    {
      "cell_type": "code",
      "source": [
        "df = df.drop(columns='ID')"
      ],
      "metadata": {
        "id": "eJqZXihha6se"
      },
      "execution_count": null,
      "outputs": []
    },
    {
      "cell_type": "code",
      "source": [
        "# convert numeric to categorical viariables\n",
        "df['Region_Code'] = df['Region_Code'].astype('category')\n",
        "df['Holding_Policy_Type'] = df['Holding_Policy_Type'].astype('category')\n",
        "df['Reco_Policy_Cat'] = df['Reco_Policy_Cat'].astype('category')"
      ],
      "metadata": {
        "id": "F0Pr8GGD_cHQ"
      },
      "execution_count": null,
      "outputs": []
    },
    {
      "cell_type": "code",
      "source": [
        "num_col_names = df.select_dtypes(include=np.number).columns.tolist()\n",
        "cat_col_names = [cat for cat in df.columns if cat not in num_col_names]\n",
        "print(num_col_names)\n",
        "print(cat_col_names)"
      ],
      "metadata": {
        "colab": {
          "base_uri": "https://localhost:8080/"
        },
        "id": "nEIFrBRmL-lt",
        "outputId": "7a54e189-d472-4a48-d9fc-a7f6c32c39b2"
      },
      "execution_count": null,
      "outputs": [
        {
          "output_type": "stream",
          "name": "stdout",
          "text": [
            "['Lower_Age', 'Reco_Policy_Premium', 'Response']\n",
            "['City_Code', 'Region_Code', 'Accomodation_Type', 'Reco_Insurance_Type', 'Is_Spouse', 'Health Indicator', 'Holding_Policy_Duration', 'Holding_Policy_Type', 'Reco_Policy_Cat']\n"
          ]
        }
      ]
    },
    {
      "cell_type": "markdown",
      "source": [
        "## 3.1 Missing value"
      ],
      "metadata": {
        "id": "h4ULPSKAZPM9"
      }
    },
    {
      "cell_type": "code",
      "source": [
        "df.isnull().sum()"
      ],
      "metadata": {
        "colab": {
          "base_uri": "https://localhost:8080/"
        },
        "id": "5PwvR8_LgeOM",
        "outputId": "9c3964cd-e772-43fb-e9b2-f04eb5218b28"
      },
      "execution_count": null,
      "outputs": [
        {
          "output_type": "execute_result",
          "data": {
            "text/plain": [
              "City_Code                      0\n",
              "Region_Code                    0\n",
              "Accomodation_Type              0\n",
              "Reco_Insurance_Type            0\n",
              "Lower_Age                      0\n",
              "Is_Spouse                      0\n",
              "Health Indicator           11691\n",
              "Holding_Policy_Duration    20251\n",
              "Holding_Policy_Type        20251\n",
              "Reco_Policy_Cat                0\n",
              "Reco_Policy_Premium            0\n",
              "Response                       0\n",
              "dtype: int64"
            ]
          },
          "metadata": {},
          "execution_count": 24
        }
      ]
    },
    {
      "cell_type": "code",
      "source": [
        "# percentage of null values of each feature\n",
        "feature_nulls = (df.isnull().sum() / df.shape[0])*100\n",
        "feature_nulls"
      ],
      "metadata": {
        "colab": {
          "base_uri": "https://localhost:8080/"
        },
        "outputId": "c902a03e-27b0-458f-eab9-23afc26ba8ad",
        "id": "UU2_28FxZPM-"
      },
      "execution_count": null,
      "outputs": [
        {
          "output_type": "execute_result",
          "data": {
            "text/plain": [
              "City_Code                   0.000000\n",
              "Region_Code                 0.000000\n",
              "Accomodation_Type           0.000000\n",
              "Reco_Insurance_Type         0.000000\n",
              "Lower_Age                   0.000000\n",
              "Is_Spouse                   0.000000\n",
              "Health Indicator           22.976691\n",
              "Holding_Policy_Duration    39.799929\n",
              "Holding_Policy_Type        39.799929\n",
              "Reco_Policy_Cat             0.000000\n",
              "Reco_Policy_Premium         0.000000\n",
              "Response                    0.000000\n",
              "dtype: float64"
            ]
          },
          "metadata": {},
          "execution_count": 25
        }
      ]
    },
    {
      "cell_type": "markdown",
      "source": [
        "As there are around 40% null values, we will omit the variables Holding_Policy_Duration and Holding_Policy_Type"
      ],
      "metadata": {
        "id": "a_uoSQSUZPM-"
      }
    },
    {
      "cell_type": "code",
      "source": [
        "df = df[df['Holding_Policy_Duration'].notnull()]"
      ],
      "metadata": {
        "id": "UP3SlnPFgSUM"
      },
      "execution_count": null,
      "outputs": []
    },
    {
      "cell_type": "code",
      "source": [
        "df.info()"
      ],
      "metadata": {
        "colab": {
          "base_uri": "https://localhost:8080/"
        },
        "id": "lBuNs2c3C5JN",
        "outputId": "4d3b9e61-7c4b-4909-bfde-301f85676f53"
      },
      "execution_count": null,
      "outputs": [
        {
          "output_type": "stream",
          "name": "stdout",
          "text": [
            "<class 'pandas.core.frame.DataFrame'>\n",
            "Int64Index: 30631 entries, 0 to 50881\n",
            "Data columns (total 12 columns):\n",
            " #   Column                   Non-Null Count  Dtype   \n",
            "---  ------                   --------------  -----   \n",
            " 0   City_Code                30631 non-null  object  \n",
            " 1   Region_Code              30631 non-null  category\n",
            " 2   Accomodation_Type        30631 non-null  object  \n",
            " 3   Reco_Insurance_Type      30631 non-null  object  \n",
            " 4   Lower_Age                30631 non-null  int64   \n",
            " 5   Is_Spouse                30631 non-null  object  \n",
            " 6   Health Indicator         23548 non-null  object  \n",
            " 7   Holding_Policy_Duration  30631 non-null  object  \n",
            " 8   Holding_Policy_Type      30631 non-null  category\n",
            " 9   Reco_Policy_Cat          30631 non-null  category\n",
            " 10  Reco_Policy_Premium      30631 non-null  float64 \n",
            " 11  Response                 30631 non-null  int64   \n",
            "dtypes: category(3), float64(1), int64(2), object(6)\n",
            "memory usage: 2.6+ MB\n"
          ]
        }
      ]
    },
    {
      "cell_type": "markdown",
      "source": [
        "We need to do data imputation or just omit the missing data of 'health indicator' since it has 23% missing values."
      ],
      "metadata": {
        "id": "ZtupTRbbZkHs"
      }
    },
    {
      "cell_type": "code",
      "source": [
        "df['Health Indicator'].value_counts()"
      ],
      "metadata": {
        "colab": {
          "base_uri": "https://localhost:8080/"
        },
        "id": "Hk4nxusAZi1M",
        "outputId": "37c0753e-21ac-4733-fd31-3fee464fea39"
      },
      "execution_count": null,
      "outputs": [
        {
          "output_type": "execute_result",
          "data": {
            "text/plain": [
              "X1    7682\n",
              "X2    6252\n",
              "X3    3912\n",
              "X4    3638\n",
              "X5    1141\n",
              "X6     700\n",
              "X7     133\n",
              "X8      54\n",
              "X9      36\n",
              "Name: Health Indicator, dtype: int64"
            ]
          },
          "metadata": {},
          "execution_count": 28
        }
      ]
    },
    {
      "cell_type": "markdown",
      "source": [
        "Though x1 and x2 have the dominant numbers, we can't simply use the mode to impute since it would trigger bias. Therefore, we keep the NA in 'health indicator'."
      ],
      "metadata": {
        "id": "PhC0__PGhHFp"
      }
    },
    {
      "cell_type": "markdown",
      "source": [
        "## 3.3 Dummy & X,y"
      ],
      "metadata": {
        "id": "83c78Qn1iJKo"
      }
    },
    {
      "cell_type": "code",
      "source": [
        "df['Response'].value_counts()"
      ],
      "metadata": {
        "colab": {
          "base_uri": "https://localhost:8080/"
        },
        "id": "317JWn4dN5pQ",
        "outputId": "5603bb05-a3b3-4477-f4e2-2e6d05f93244"
      },
      "execution_count": null,
      "outputs": [
        {
          "output_type": "execute_result",
          "data": {
            "text/plain": [
              "0    23261\n",
              "1     7370\n",
              "Name: Response, dtype: int64"
            ]
          },
          "metadata": {},
          "execution_count": 29
        }
      ]
    },
    {
      "cell_type": "code",
      "source": [
        "7370/(23261+ 7370)\n",
        "# 24% is good, no need for balancing data\n",
        "# data imbalance"
      ],
      "metadata": {
        "colab": {
          "base_uri": "https://localhost:8080/"
        },
        "id": "y8ijQGCCfJ4t",
        "outputId": "30adcec4-aa89-4a2f-afc4-c0d34e8f4938"
      },
      "execution_count": null,
      "outputs": [
        {
          "output_type": "execute_result",
          "data": {
            "text/plain": [
              "0.24060592210505696"
            ]
          },
          "metadata": {},
          "execution_count": 30
        }
      ]
    },
    {
      "cell_type": "code",
      "source": [
        "def GetXY_dummy(df, features, cat_features):\n",
        "    '''\n",
        "    Select the subset of features\n",
        "    Create dummy variables if needed\n",
        "    '''\n",
        "    df = df.loc[:, features]\n",
        "\n",
        "    for cat_feature in cat_features:\n",
        "        if cat_feature in df.columns:\n",
        "            df = pd.get_dummies(df, prefix = [cat_feature], columns = [cat_feature], drop_first = True)\n",
        "           \n",
        "    X = df.drop(['Response'], axis = 1)\n",
        "    y = df['Response']\n",
        "   \n",
        "    return X, y\n",
        "\n",
        "# features: list of all features, use lst below\n",
        "# outcome: y-variable"
      ],
      "metadata": {
        "id": "7vksydB4LycO"
      },
      "execution_count": null,
      "outputs": []
    },
    {
      "cell_type": "code",
      "source": [
        "X, y = GetXY_dummy(df=df,features=df.columns,cat_features=cat_col_names)\n",
        "X.shape,len(y)"
      ],
      "metadata": {
        "colab": {
          "base_uri": "https://localhost:8080/"
        },
        "id": "ZMOGiLa5P9Zp",
        "outputId": "5d731b6d-68ce-4380-e514-d3f75bd60662"
      },
      "execution_count": null,
      "outputs": [
        {
          "output_type": "execute_result",
          "data": {
            "text/plain": [
              "((30631, 5401), 30631)"
            ]
          },
          "metadata": {},
          "execution_count": 32
        }
      ]
    },
    {
      "cell_type": "markdown",
      "source": [
        "## 3.4 Optimazing Models"
      ],
      "metadata": {
        "id": "WPFnA5pai8eU"
      }
    },
    {
      "cell_type": "markdown",
      "source": [
        "### 3.4.1 Balancing classes(optional)"
      ],
      "metadata": {
        "id": "XvmG9OdgM_Hl"
      }
    },
    {
      "cell_type": "markdown",
      "source": [
        "We can do banlancing classes to see if the model would perform better. However, we don't want to do that in the first place.\n",
        "\n",
        "```\n",
        "from imblearn.over_sampling import RandomOverSampler\n",
        "ros = RandomOverSampler(random_state=42)\n",
        "X, y = ros.fit_resample(X, y)\n",
        "ax = sns.countplot(x=y)\n",
        "```\n",
        "\n"
      ],
      "metadata": {
        "id": "-UAv-5uXOniM"
      }
    },
    {
      "cell_type": "markdown",
      "source": [
        "### 3.4.2 Normalization(optional)"
      ],
      "metadata": {
        "id": "h2k2PtUPTpJ8"
      }
    },
    {
      "cell_type": "markdown",
      "source": [
        "We will run the models before scaling the data, and go back here to try StandardScaler or MinMaxScaler and verify if we have best results using the scaling.\n",
        "\n",
        "\n",
        "```\n",
        "# StandardScaler\n",
        "from sklearn.preprocessing import StandardScaler\n",
        "scaler = StandardScaler()\n",
        "X_standard = scaler.fit_transform(X)\n",
        "# MinMaxScaler\n",
        "from sklearn.preprocessing import MinMaxScaler\n",
        "obj_norm = MinMaxScaler().fit(X)\n",
        "X_normalization = obj_norm.transform(X)\n",
        "```\n",
        "\n"
      ],
      "metadata": {
        "id": "rz6arheVTujW"
      }
    },
    {
      "cell_type": "markdown",
      "source": [
        "##3.5 Splitting dataset"
      ],
      "metadata": {
        "id": "NY_IUcm9PgZh"
      }
    },
    {
      "cell_type": "code",
      "source": [
        "from sklearn.model_selection import train_test_split\n",
        "X_train, X_test, y_train, y_test = train_test_split(X, y, test_size = 0.3, random_state = 42)"
      ],
      "metadata": {
        "id": "yUg9DOkZMutP"
      },
      "execution_count": null,
      "outputs": []
    },
    {
      "cell_type": "code",
      "source": [
        "X_train.shape, len(y_train)"
      ],
      "metadata": {
        "colab": {
          "base_uri": "https://localhost:8080/"
        },
        "id": "b7TxrRMlQ__a",
        "outputId": "9b5b9b8e-ddaf-4552-c4ac-2309bffc77dc"
      },
      "execution_count": null,
      "outputs": [
        {
          "output_type": "execute_result",
          "data": {
            "text/plain": [
              "((21441, 5401), 21441)"
            ]
          },
          "metadata": {},
          "execution_count": 38
        }
      ]
    },
    {
      "cell_type": "code",
      "source": [
        "X_test.shape, len(y_test)"
      ],
      "metadata": {
        "colab": {
          "base_uri": "https://localhost:8080/"
        },
        "id": "j1T8jSdBRF6a",
        "outputId": "a1033e29-1b56-4704-f0ad-140c66adf08b"
      },
      "execution_count": null,
      "outputs": [
        {
          "output_type": "execute_result",
          "data": {
            "text/plain": [
              "((9190, 5401), 9190)"
            ]
          },
          "metadata": {},
          "execution_count": 39
        }
      ]
    },
    {
      "cell_type": "markdown",
      "source": [
        "#4. Model Building"
      ],
      "metadata": {
        "id": "vuOoYAVrRQd6"
      }
    },
    {
      "cell_type": "markdown",
      "source": [
        "## 4.1 Naive Bayes"
      ],
      "metadata": {
        "id": "_YI9an54RXtn"
      }
    },
    {
      "cell_type": "code",
      "source": [
        "from sklearn.naive_bayes import GaussianNB"
      ],
      "metadata": {
        "id": "gExPrCIbpUDf"
      },
      "execution_count": null,
      "outputs": []
    },
    {
      "cell_type": "markdown",
      "source": [
        "### Running Model"
      ],
      "metadata": {
        "id": "WbZLNfEzxgB6"
      }
    },
    {
      "cell_type": "code",
      "source": [
        "naive_bayes = GaussianNB()\n",
        "naive_bayes.fit(X_train, y_train)"
      ],
      "metadata": {
        "colab": {
          "base_uri": "https://localhost:8080/"
        },
        "id": "T5JSru46TteU",
        "outputId": "25d44c86-346f-42e3-c410-8837f4aff3c0"
      },
      "execution_count": null,
      "outputs": [
        {
          "output_type": "execute_result",
          "data": {
            "text/plain": [
              "GaussianNB()"
            ]
          },
          "metadata": {},
          "execution_count": 89
        }
      ]
    },
    {
      "cell_type": "code",
      "source": [
        "y_pred_nb = naive_bayes.predict(X_test)"
      ],
      "metadata": {
        "id": "y1sW-uxzTuTS"
      },
      "execution_count": null,
      "outputs": []
    },
    {
      "cell_type": "code",
      "source": [
        "y_proba_nb = naive_bayes.predict_proba(X_test)"
      ],
      "metadata": {
        "id": "Bo6xrBARpyWK"
      },
      "execution_count": null,
      "outputs": []
    },
    {
      "cell_type": "markdown",
      "source": [
        "### Performance"
      ],
      "metadata": {
        "id": "F5plHfyPwaMt"
      }
    },
    {
      "cell_type": "code",
      "source": [
        "# Compute confusion matrix for test set\n",
        "confusion_nb = confusion_matrix(y_test, y_pred_nb)\n",
        "confusion_nb"
      ],
      "metadata": {
        "colab": {
          "base_uri": "https://localhost:8080/"
        },
        "id": "P6WiNFZfT7_s",
        "outputId": "d63d0f79-58bb-4642-ae42-6d24a88983d0"
      },
      "execution_count": null,
      "outputs": [
        {
          "output_type": "execute_result",
          "data": {
            "text/plain": [
              "array([[6333,  729],\n",
              "       [1756,  372]])"
            ]
          },
          "metadata": {},
          "execution_count": 92
        }
      ]
    },
    {
      "cell_type": "code",
      "source": [
        "# Testing summary \n",
        "print(metrics.classification_report(y_test, y_pred_nb))"
      ],
      "metadata": {
        "colab": {
          "base_uri": "https://localhost:8080/"
        },
        "id": "y42tQ6qiUpLv",
        "outputId": "78fa76dc-34ca-48bd-dc76-f6d919befece"
      },
      "execution_count": null,
      "outputs": [
        {
          "output_type": "stream",
          "name": "stdout",
          "text": [
            "              precision    recall  f1-score   support\n",
            "\n",
            "           0       0.78      0.90      0.84      7062\n",
            "           1       0.34      0.17      0.23      2128\n",
            "\n",
            "    accuracy                           0.73      9190\n",
            "   macro avg       0.56      0.54      0.53      9190\n",
            "weighted avg       0.68      0.73      0.70      9190\n",
            "\n"
          ]
        }
      ]
    },
    {
      "cell_type": "code",
      "source": [
        "# accuracy score\n",
        "accuracy_score(y_test, y_pred_nb)"
      ],
      "metadata": {
        "colab": {
          "base_uri": "https://localhost:8080/"
        },
        "id": "c3SYMsAH5EU8",
        "outputId": "3557ae4a-ac6d-4c3c-f064-b9cc48db848f"
      },
      "execution_count": null,
      "outputs": [
        {
          "output_type": "execute_result",
          "data": {
            "text/plain": [
              "0.7295973884657236"
            ]
          },
          "metadata": {},
          "execution_count": 94
        }
      ]
    },
    {
      "cell_type": "markdown",
      "source": [
        "Naive Bayes give accuracy as 0.7307 using data without any scaling."
      ],
      "metadata": {
        "id": "AElERSj4XsmV"
      }
    },
    {
      "cell_type": "markdown",
      "source": [
        "## 4.2 Decision Tree"
      ],
      "metadata": {
        "id": "C6VfUj7yjcdG"
      }
    },
    {
      "cell_type": "code",
      "source": [
        "from sklearn.model_selection import GridSearchCV\n",
        "from sklearn.tree import DecisionTreeClassifier"
      ],
      "metadata": {
        "id": "SoroAoRSwZz3"
      },
      "execution_count": null,
      "outputs": []
    },
    {
      "cell_type": "markdown",
      "source": [
        "### Running Model"
      ],
      "metadata": {
        "id": "OipkXHydwBjf"
      }
    },
    {
      "cell_type": "code",
      "source": [
        "decision_tree = DecisionTreeClassifier(criterion = 'gini', min_samples_split = 5, max_depth= 6, random_state=42)"
      ],
      "metadata": {
        "id": "r9wPHXDKv0xR"
      },
      "execution_count": null,
      "outputs": []
    },
    {
      "cell_type": "code",
      "source": [
        "decision_tree.fit(X_train, y_train)"
      ],
      "metadata": {
        "colab": {
          "base_uri": "https://localhost:8080/"
        },
        "id": "zOTLZrNWwChq",
        "outputId": "6c777023-c9b3-426d-dc45-e55e4043e09d"
      },
      "execution_count": null,
      "outputs": [
        {
          "output_type": "execute_result",
          "data": {
            "text/plain": [
              "DecisionTreeClassifier(max_depth=6, min_samples_split=5, random_state=42)"
            ]
          },
          "metadata": {},
          "execution_count": 42
        }
      ]
    },
    {
      "cell_type": "code",
      "source": [
        "y_pred_dt = decision_tree.predict(X_test)"
      ],
      "metadata": {
        "id": "hbDD1bEdwMz7"
      },
      "execution_count": null,
      "outputs": []
    },
    {
      "cell_type": "code",
      "source": [
        "y_proba_dt = decision_tree.predict_proba(X_test)"
      ],
      "metadata": {
        "id": "flKL2yrFlYmX"
      },
      "execution_count": null,
      "outputs": []
    },
    {
      "cell_type": "markdown",
      "source": [
        "### Performance"
      ],
      "metadata": {
        "id": "XMeZVwxhwgCw"
      }
    },
    {
      "cell_type": "code",
      "source": [
        "# Compute confusion matrix for test set\n",
        "confusion_dt = confusion_matrix(y_test, y_pred_dt)\n",
        "confusion_dt"
      ],
      "metadata": {
        "colab": {
          "base_uri": "https://localhost:8080/"
        },
        "id": "jH6pUYZWwVIp",
        "outputId": "45e28aeb-8bf1-44d7-e78b-018c520b8246"
      },
      "execution_count": null,
      "outputs": [
        {
          "output_type": "execute_result",
          "data": {
            "text/plain": [
              "array([[6941,  121],\n",
              "       [2011,  117]])"
            ]
          },
          "metadata": {},
          "execution_count": 45
        }
      ]
    },
    {
      "cell_type": "code",
      "source": [
        "# Testing summary \n",
        "print(metrics.classification_report(y_test, y_pred_dt))"
      ],
      "metadata": {
        "colab": {
          "base_uri": "https://localhost:8080/"
        },
        "id": "bUt1dju9wVpU",
        "outputId": "bd404112-a543-471a-a794-3088d7f06065"
      },
      "execution_count": null,
      "outputs": [
        {
          "output_type": "stream",
          "name": "stdout",
          "text": [
            "              precision    recall  f1-score   support\n",
            "\n",
            "           0       0.78      0.98      0.87      7062\n",
            "           1       0.49      0.05      0.10      2128\n",
            "\n",
            "    accuracy                           0.77      9190\n",
            "   macro avg       0.63      0.52      0.48      9190\n",
            "weighted avg       0.71      0.77      0.69      9190\n",
            "\n"
          ]
        }
      ]
    },
    {
      "cell_type": "code",
      "source": [
        "# accuracy score\n",
        "accuracy_score(y_test, y_pred_dt)"
      ],
      "metadata": {
        "colab": {
          "base_uri": "https://localhost:8080/"
        },
        "id": "ViOLtDoN5h4_",
        "outputId": "e2c9e222-deef-4bcf-a5f9-4cca71338482"
      },
      "execution_count": null,
      "outputs": [
        {
          "output_type": "execute_result",
          "data": {
            "text/plain": [
              "0.7680087051142547"
            ]
          },
          "metadata": {},
          "execution_count": 47
        }
      ]
    },
    {
      "cell_type": "markdown",
      "source": [
        "## 4.3 Random Forest"
      ],
      "metadata": {
        "id": "2xS8gzs6kloK"
      }
    },
    {
      "cell_type": "code",
      "source": [
        "from sklearn.ensemble import RandomForestClassifier"
      ],
      "metadata": {
        "id": "6-iHaYRFksM9"
      },
      "execution_count": null,
      "outputs": []
    },
    {
      "cell_type": "markdown",
      "source": [
        "### Running Model"
      ],
      "metadata": {
        "id": "VLheE3olxyzV"
      }
    },
    {
      "cell_type": "code",
      "source": [
        "random_forest = RandomForestClassifier(n_estimators = 100, criterion = 'entropy', random_state = 42)"
      ],
      "metadata": {
        "id": "46MUTxTXxHnQ"
      },
      "execution_count": null,
      "outputs": []
    },
    {
      "cell_type": "code",
      "source": [
        "random_forest.fit(X_train, y_train)"
      ],
      "metadata": {
        "colab": {
          "base_uri": "https://localhost:8080/"
        },
        "id": "6V1UPjLnxLxt",
        "outputId": "bb1dd9f3-c888-4a4b-c0bf-17910fd51118"
      },
      "execution_count": null,
      "outputs": [
        {
          "output_type": "execute_result",
          "data": {
            "text/plain": [
              "RandomForestClassifier(criterion='entropy', random_state=42)"
            ]
          },
          "metadata": {},
          "execution_count": 50
        }
      ]
    },
    {
      "cell_type": "code",
      "source": [
        "y_pred_rf = random_forest.predict(X_test)"
      ],
      "metadata": {
        "id": "8_Pf9HVdxOMz"
      },
      "execution_count": null,
      "outputs": []
    },
    {
      "cell_type": "code",
      "source": [
        "y_proba_rf = random_forest.predict_proba(X_test)"
      ],
      "metadata": {
        "id": "IqR5w4r2tQTw"
      },
      "execution_count": null,
      "outputs": []
    },
    {
      "cell_type": "markdown",
      "source": [
        "### Performance"
      ],
      "metadata": {
        "id": "8in738iwyBKT"
      }
    },
    {
      "cell_type": "code",
      "source": [
        "# Compute confusion matrix for test set\n",
        "confusion_rf = confusion_matrix(y_test, y_pred_rf)\n",
        "confusion_rf"
      ],
      "metadata": {
        "colab": {
          "base_uri": "https://localhost:8080/"
        },
        "outputId": "33aa5737-d1e9-4367-b394-cd647f871210",
        "id": "KVxfzpeTyBKT"
      },
      "execution_count": null,
      "outputs": [
        {
          "output_type": "execute_result",
          "data": {
            "text/plain": [
              "array([[6966,   96],\n",
              "       [2043,   85]])"
            ]
          },
          "metadata": {},
          "execution_count": 53
        }
      ]
    },
    {
      "cell_type": "code",
      "source": [
        "# Testing summary \n",
        "print(metrics.classification_report(y_test, y_pred_rf))"
      ],
      "metadata": {
        "colab": {
          "base_uri": "https://localhost:8080/"
        },
        "outputId": "e6bd562d-7056-4398-bdef-bda19d2729ec",
        "id": "f7XlPijfyBKT"
      },
      "execution_count": null,
      "outputs": [
        {
          "output_type": "stream",
          "name": "stdout",
          "text": [
            "              precision    recall  f1-score   support\n",
            "\n",
            "           0       0.77      0.99      0.87      7062\n",
            "           1       0.47      0.04      0.07      2128\n",
            "\n",
            "    accuracy                           0.77      9190\n",
            "   macro avg       0.62      0.51      0.47      9190\n",
            "weighted avg       0.70      0.77      0.68      9190\n",
            "\n"
          ]
        }
      ]
    },
    {
      "cell_type": "code",
      "source": [
        "# accuracy score\n",
        "accuracy_score(y_test, y_pred_rf)"
      ],
      "metadata": {
        "colab": {
          "base_uri": "https://localhost:8080/"
        },
        "id": "VGsYHEzg5lVM",
        "outputId": "afeb5cc9-ad1d-48f8-820a-9606455d93a8"
      },
      "execution_count": null,
      "outputs": [
        {
          "output_type": "execute_result",
          "data": {
            "text/plain": [
              "0.767247007616975"
            ]
          },
          "metadata": {},
          "execution_count": 55
        }
      ]
    },
    {
      "cell_type": "markdown",
      "source": [
        "## 4.4 Logistic Regression"
      ],
      "metadata": {
        "id": "Y7ZQRguVksxf"
      }
    },
    {
      "cell_type": "markdown",
      "source": [
        "Logistic Regression doesn't work with na. Therefore, we impute data using mode in particular for this model."
      ],
      "metadata": {
        "id": "rhLF2JcuGmjf"
      }
    },
    {
      "cell_type": "code",
      "source": [
        "df_log = df.copy()\n",
        "df_log['Health Indicator'].value_counts()"
      ],
      "metadata": {
        "colab": {
          "base_uri": "https://localhost:8080/"
        },
        "id": "gaFH1-oYHvJP",
        "outputId": "91ba45f1-bc66-4687-c5a9-19b282f474be"
      },
      "execution_count": null,
      "outputs": [
        {
          "output_type": "execute_result",
          "data": {
            "text/plain": [
              "X1    7682\n",
              "X2    6252\n",
              "X3    3912\n",
              "X4    3638\n",
              "X5    1141\n",
              "X6     700\n",
              "X7     133\n",
              "X8      54\n",
              "X9      36\n",
              "Name: Health Indicator, dtype: int64"
            ]
          },
          "metadata": {},
          "execution_count": 111
        }
      ]
    },
    {
      "cell_type": "code",
      "source": [
        "df_log['Health Indicator']=df_log['Health Indicator'].fillna(df_log['Health Indicator'].mode()[0])"
      ],
      "metadata": {
        "id": "yRR9cDiDGyPF"
      },
      "execution_count": null,
      "outputs": []
    },
    {
      "cell_type": "code",
      "source": [
        "X_log, y_log = GetXY_dummy(df=df_log,features=df_log.columns,cat_features=cat_col_names)\n",
        "X_log.shape,len(y_log)"
      ],
      "metadata": {
        "colab": {
          "base_uri": "https://localhost:8080/"
        },
        "id": "OHiRzoczHdD5",
        "outputId": "081f8b41-f16c-4491-e2c1-39e4d94e9b18"
      },
      "execution_count": null,
      "outputs": [
        {
          "output_type": "execute_result",
          "data": {
            "text/plain": [
              "((30631, 5401), 30631)"
            ]
          },
          "metadata": {},
          "execution_count": 113
        }
      ]
    },
    {
      "cell_type": "code",
      "source": [
        "X_train_log, X_test_log, y_train_log, y_test_log = train_test_split(X_log, y_log, test_size = 0.3, random_state = 42)"
      ],
      "metadata": {
        "id": "fX0EfYqOHk_X"
      },
      "execution_count": null,
      "outputs": []
    },
    {
      "cell_type": "code",
      "source": [
        "X_train_log.shape, len(y_train_log)"
      ],
      "metadata": {
        "colab": {
          "base_uri": "https://localhost:8080/"
        },
        "id": "4CwF21YfH3ir",
        "outputId": "94636394-11e3-4ea2-82a7-ea25cb8d8188"
      },
      "execution_count": null,
      "outputs": [
        {
          "output_type": "execute_result",
          "data": {
            "text/plain": [
              "((21441, 5401), 21441)"
            ]
          },
          "metadata": {},
          "execution_count": 115
        }
      ]
    },
    {
      "cell_type": "code",
      "source": [
        "X_test_log.shape, len(y_test_log)"
      ],
      "metadata": {
        "colab": {
          "base_uri": "https://localhost:8080/"
        },
        "id": "6A4l6IvAH4_0",
        "outputId": "2836228e-c29e-4fe6-e2ec-834e0f88aa61"
      },
      "execution_count": null,
      "outputs": [
        {
          "output_type": "execute_result",
          "data": {
            "text/plain": [
              "((9190, 5401), 9190)"
            ]
          },
          "metadata": {},
          "execution_count": 116
        }
      ]
    },
    {
      "cell_type": "code",
      "source": [
        "from sklearn.linear_model import LogisticRegression"
      ],
      "metadata": {
        "id": "zbPKLXv8kw7X"
      },
      "execution_count": null,
      "outputs": []
    },
    {
      "cell_type": "markdown",
      "source": [
        "### Running Model"
      ],
      "metadata": {
        "id": "uPXsyxjmkKlt"
      }
    },
    {
      "cell_type": "code",
      "source": [
        "logistic = LogisticRegression(random_state = 42)"
      ],
      "metadata": {
        "id": "UJV8iBPYj4p7"
      },
      "execution_count": null,
      "outputs": []
    },
    {
      "cell_type": "code",
      "source": [
        "logistic.fit(X_train_log, y_train_log)"
      ],
      "metadata": {
        "colab": {
          "base_uri": "https://localhost:8080/"
        },
        "id": "Y6T4ROHcj8NQ",
        "outputId": "70b4f99c-507c-404b-ee5f-7f8f6433e9c3"
      },
      "execution_count": null,
      "outputs": [
        {
          "output_type": "execute_result",
          "data": {
            "text/plain": [
              "LogisticRegression(random_state=42)"
            ]
          },
          "metadata": {},
          "execution_count": 120
        }
      ]
    },
    {
      "cell_type": "code",
      "source": [
        "y_pred_log = logistic.predict(X_test_log)"
      ],
      "metadata": {
        "id": "IhoL5bYXj97J"
      },
      "execution_count": null,
      "outputs": []
    },
    {
      "cell_type": "code",
      "source": [
        "y_proba_log = logistic.predict_proba(X_test_log)"
      ],
      "metadata": {
        "id": "SBJYaaxwtarP"
      },
      "execution_count": null,
      "outputs": []
    },
    {
      "cell_type": "markdown",
      "source": [
        "### Performance"
      ],
      "metadata": {
        "id": "Uv6etYZBkP1s"
      }
    },
    {
      "cell_type": "code",
      "source": [
        "# Compute confusion matrix for test set\n",
        "confusion_log = confusion_matrix(y_test_log, y_pred_log)\n",
        "confusion_log"
      ],
      "metadata": {
        "colab": {
          "base_uri": "https://localhost:8080/"
        },
        "outputId": "225ac382-c9be-48ab-fadf-e8d24af71ec5",
        "id": "QqBr1XlckP1s"
      },
      "execution_count": null,
      "outputs": [
        {
          "output_type": "execute_result",
          "data": {
            "text/plain": [
              "array([[7062,    0],\n",
              "       [2128,    0]])"
            ]
          },
          "metadata": {},
          "execution_count": 123
        }
      ]
    },
    {
      "cell_type": "code",
      "source": [
        "# Testing summary \n",
        "print(metrics.classification_report(y_test_log, y_pred_log))"
      ],
      "metadata": {
        "colab": {
          "base_uri": "https://localhost:8080/"
        },
        "outputId": "ee5cdafe-3505-4ccb-e0a6-2995d4d12dd0",
        "id": "mPz2gzlMkP1t"
      },
      "execution_count": null,
      "outputs": [
        {
          "output_type": "stream",
          "name": "stdout",
          "text": [
            "              precision    recall  f1-score   support\n",
            "\n",
            "           0       0.77      1.00      0.87      7062\n",
            "           1       0.00      0.00      0.00      2128\n",
            "\n",
            "    accuracy                           0.77      9190\n",
            "   macro avg       0.38      0.50      0.43      9190\n",
            "weighted avg       0.59      0.77      0.67      9190\n",
            "\n"
          ]
        },
        {
          "output_type": "stream",
          "name": "stderr",
          "text": [
            "/usr/local/lib/python3.8/dist-packages/sklearn/metrics/_classification.py:1318: UndefinedMetricWarning: Precision and F-score are ill-defined and being set to 0.0 in labels with no predicted samples. Use `zero_division` parameter to control this behavior.\n",
            "  _warn_prf(average, modifier, msg_start, len(result))\n",
            "/usr/local/lib/python3.8/dist-packages/sklearn/metrics/_classification.py:1318: UndefinedMetricWarning: Precision and F-score are ill-defined and being set to 0.0 in labels with no predicted samples. Use `zero_division` parameter to control this behavior.\n",
            "  _warn_prf(average, modifier, msg_start, len(result))\n",
            "/usr/local/lib/python3.8/dist-packages/sklearn/metrics/_classification.py:1318: UndefinedMetricWarning: Precision and F-score are ill-defined and being set to 0.0 in labels with no predicted samples. Use `zero_division` parameter to control this behavior.\n",
            "  _warn_prf(average, modifier, msg_start, len(result))\n"
          ]
        }
      ]
    },
    {
      "cell_type": "code",
      "source": [
        "# accuracy score\n",
        "accuracy_score(y_test, y_pred_log)"
      ],
      "metadata": {
        "colab": {
          "base_uri": "https://localhost:8080/"
        },
        "id": "EiL6WSGU5pQX",
        "outputId": "088c1057-f7df-4815-aa03-4914d4df2f64"
      },
      "execution_count": null,
      "outputs": [
        {
          "output_type": "execute_result",
          "data": {
            "text/plain": [
              "0.7684439608269859"
            ]
          },
          "metadata": {},
          "execution_count": 125
        }
      ]
    },
    {
      "cell_type": "markdown",
      "source": [
        "## 4.5 K Nearest Neighbor"
      ],
      "metadata": {
        "id": "r3B2rQngkxUn"
      }
    },
    {
      "cell_type": "code",
      "source": [
        "from sklearn.neighbors import KNeighborsClassifier"
      ],
      "metadata": {
        "id": "7qTG3id-mt4y"
      },
      "execution_count": null,
      "outputs": []
    },
    {
      "cell_type": "markdown",
      "source": [
        "### Running Model"
      ],
      "metadata": {
        "id": "VdZapas-4Uv3"
      }
    },
    {
      "cell_type": "code",
      "source": [
        "knn = KNeighborsClassifier(n_neighbors = 8, metric = 'minkowski', p = 2)"
      ],
      "metadata": {
        "id": "mp2IVqmi4YLv"
      },
      "execution_count": null,
      "outputs": []
    },
    {
      "cell_type": "code",
      "source": [
        "knn.fit(X_train, y_train)"
      ],
      "metadata": {
        "id": "AZzfl13G4-qt",
        "colab": {
          "base_uri": "https://localhost:8080/"
        },
        "outputId": "d46ac954-9d93-4a4b-b248-29c38f8a2536"
      },
      "execution_count": null,
      "outputs": [
        {
          "output_type": "execute_result",
          "data": {
            "text/plain": [
              "KNeighborsClassifier(n_neighbors=8)"
            ]
          },
          "metadata": {},
          "execution_count": 62
        }
      ]
    },
    {
      "cell_type": "code",
      "source": [
        "y_pred_knn = knn.predict(X_test)"
      ],
      "metadata": {
        "id": "D41PI-U65Amf"
      },
      "execution_count": null,
      "outputs": []
    },
    {
      "cell_type": "code",
      "source": [
        "y_proba_knn = knn.predict_proba(X_test)"
      ],
      "metadata": {
        "id": "KKe6FTXcw_nA"
      },
      "execution_count": null,
      "outputs": []
    },
    {
      "cell_type": "markdown",
      "source": [
        "### Performance"
      ],
      "metadata": {
        "id": "YFWAvoR74XGB"
      }
    },
    {
      "cell_type": "code",
      "source": [
        "# Compute confusion matrix for test set\n",
        "confusion_knn = confusion_matrix(y_test, y_pred_knn)\n",
        "confusion_knn"
      ],
      "metadata": {
        "colab": {
          "base_uri": "https://localhost:8080/"
        },
        "outputId": "5a52f171-18c3-4cbe-8466-000ebbe16bd0",
        "id": "LXwpvtzY4XGB"
      },
      "execution_count": null,
      "outputs": [
        {
          "output_type": "execute_result",
          "data": {
            "text/plain": [
              "array([[6885,  177],\n",
              "       [2080,   48]])"
            ]
          },
          "metadata": {},
          "execution_count": 127
        }
      ]
    },
    {
      "cell_type": "code",
      "source": [
        "# Testing summary \n",
        "print(metrics.classification_report(y_test, y_pred_knn))"
      ],
      "metadata": {
        "colab": {
          "base_uri": "https://localhost:8080/"
        },
        "outputId": "40889778-9e05-45eb-8bcb-216ba340b66a",
        "id": "BR5HV3gf4XGB"
      },
      "execution_count": null,
      "outputs": [
        {
          "output_type": "stream",
          "name": "stdout",
          "text": [
            "              precision    recall  f1-score   support\n",
            "\n",
            "           0       0.77      0.97      0.86      7062\n",
            "           1       0.21      0.02      0.04      2128\n",
            "\n",
            "    accuracy                           0.75      9190\n",
            "   macro avg       0.49      0.50      0.45      9190\n",
            "weighted avg       0.64      0.75      0.67      9190\n",
            "\n"
          ]
        }
      ]
    },
    {
      "cell_type": "code",
      "source": [
        "# accuracy score\n",
        "accuracy_score(y_test, y_pred_knn)"
      ],
      "metadata": {
        "colab": {
          "base_uri": "https://localhost:8080/"
        },
        "id": "puAThNhH5wZG",
        "outputId": "eb7e94db-c2bd-42ed-be10-537d6b1603d4"
      },
      "execution_count": null,
      "outputs": [
        {
          "output_type": "execute_result",
          "data": {
            "text/plain": [
              "0.7544069640914037"
            ]
          },
          "metadata": {},
          "execution_count": 129
        }
      ]
    },
    {
      "cell_type": "markdown",
      "source": [
        "# 5. Conclusion"
      ],
      "metadata": {
        "id": "WBR940PxoFti"
      }
    },
    {
      "cell_type": "code",
      "source": [
        "from sklearn import metrics\n",
        "import itertools\n",
        "\n",
        "def plot_confusion_matrix(cm, classes,\n",
        "                          normalize=False,\n",
        "                          title='Confusion matrix',\n",
        "                          cmap=plt.cm.Greens):\n",
        "    \"\"\"\n",
        "    This function prints and plots the confusion matrix.\n",
        "    Normalization can be applied by setting `normalize=True`.\n",
        "    \"\"\"\n",
        "    #plot subplot for precision\n",
        "    plt.subplot(1, 2, 1)\n",
        "    if normalize:\n",
        "        cm = cm.astype('float') / cm.sum(axis=0)\n",
        "        print(\"Normalized confusion matrix precision\")\n",
        "    else:\n",
        "        print('Confusion matrix, without normalization')\n",
        "\n",
        "    print(cm)\n",
        "   \n",
        "    plt.imshow(cm, interpolation='nearest', cmap=cmap)\n",
        "    plt.title('Precision for '+title)\n",
        "    plt.colorbar()\n",
        "    tick_marks = np.arange(len(classes))\n",
        "    plt.xticks(tick_marks, classes, rotation=45)\n",
        "    plt.yticks(tick_marks, classes)\n",
        "\n",
        "    fmt = '.2f' if normalize else 'd'\n",
        "    thresh = cm.max() / 2.\n",
        "    for i, j in itertools.product(range(cm.shape[0]), range(cm.shape[1])):\n",
        "        plt.text(j, i, format(cm[i, j], fmt),\n",
        "                 horizontalalignment=\"center\",\n",
        "                 color=\"white\" if cm[i, j] > thresh else \"black\")\n",
        "   \n",
        "\n",
        "    plt.tight_layout()\n",
        "    plt.ylabel('True label')\n",
        "    plt.xlabel('Predicted label')\n",
        "   \n",
        "   \n",
        "    #plot subplot for recall\n",
        "    plt.subplot(1, 2, 2)\n",
        "    if normalize:\n",
        "        cm = cm.astype('float') / cm.sum(axis=1)[:, np.newaxis]\n",
        "        print(\"Normalized confusion matrix recall\")\n",
        "    else:\n",
        "        print('Confusion matrix, without normalization')\n",
        "\n",
        "    print(cm)\n",
        "   \n",
        "    plt.imshow(cm, interpolation='nearest', cmap=cmap)\n",
        "    plt.title('Recall for '+title)\n",
        "    plt.colorbar()\n",
        "    tick_marks = np.arange(len(classes))\n",
        "    plt.xticks(tick_marks, classes, rotation=45)\n",
        "    plt.yticks(tick_marks, classes)\n",
        "\n",
        "    fmt = '.2f' if normalize else 'd'\n",
        "    thresh = cm.max() / 2.\n",
        "    for i, j in itertools.product(range(cm.shape[0]), range(cm.shape[1])):\n",
        "        plt.text(j, i, format(cm[i, j], fmt),\n",
        "                 horizontalalignment=\"center\",\n",
        "                 color=\"white\" if cm[i, j] > thresh else \"black\")\n",
        "   \n",
        "\n",
        "    plt.tight_layout()\n",
        "    plt.ylabel('True label')\n",
        "    plt.xlabel('Predicted label')"
      ],
      "metadata": {
        "id": "SG0-jdbZrrln"
      },
      "execution_count": null,
      "outputs": []
    },
    {
      "cell_type": "code",
      "source": [
        "# Compute confusion matrix for training set\n",
        "# random forest confusion matrix\n",
        "cf_matrix = metrics.confusion_matrix(y_test, y_pred_rf)\n",
        "np.set_printoptions(precision=2)\n",
        "plt.figure(figsize=(16,6))\n",
        "class_names = [\"Positive\",\"Negative\"]\n",
        "plot_confusion_matrix(cf_matrix, classes=class_names)\n",
        "plt.show()"
      ],
      "metadata": {
        "colab": {
          "base_uri": "https://localhost:8080/",
          "height": 548
        },
        "id": "lidcNzSz6pVu",
        "outputId": "ed8ed92c-5c77-417a-8619-7020c068b06c"
      },
      "execution_count": null,
      "outputs": [
        {
          "output_type": "stream",
          "name": "stdout",
          "text": [
            "Confusion matrix, without normalization\n",
            "[[6987   75]\n",
            " [2048   80]]\n",
            "Confusion matrix, without normalization\n",
            "[[6987   75]\n",
            " [2048   80]]\n"
          ]
        },
        {
          "output_type": "display_data",
          "data": {
            "text/plain": [
              "<Figure size 1152x432 with 3 Axes>"
            ],
            "image/png": "[encoded data removed]"
          },
          "metadata": {
            "needs_background": "light"
          }
        }
      ]
    },
    {
      "cell_type": "code",
      "source": [
        "#Plotting lift and gain chart \n",
        "%matplotlib inline \n",
        "def plot_lift_gain(model, y_test, y_pred, y_proba):\n",
        "  model_reslut = pd.DataFrame({'actual': y_test, \n",
        "                            'p(0)': [p[0] for p in y_proba], \n",
        "                            'p(1)': [p[1] for p in y_proba],\n",
        "                            'predicted': y_pred})\n",
        "  df = model_reslut.sort_values(by=['p(1)'], ascending=False)\n",
        "  fig,axes = plt.subplots(nrows=1, ncols=2, figsize=(10,4))\n",
        "\n",
        "  gainsChart(df.actual, ax=axes[0])\n",
        "  liftChart(df['p(1)'], title=False, ax=axes[1])\n",
        "\n",
        "  plt.tight_layout()\n",
        "  plt.show()"
      ],
      "metadata": {
        "id": "XOPppyYWpum5"
      },
      "execution_count": null,
      "outputs": []
    },
    {
      "cell_type": "code",
      "source": [
        "# random forest ROC-AUC curve\n",
        "plot_lift_gain(random_forest, y_test, y_pred_rf,y_proba_rf)"
      ],
      "metadata": {
        "id": "DzZMBW-UoIck",
        "colab": {
          "base_uri": "https://localhost:8080/",
          "height": 297
        },
        "outputId": "dbe79496-c70b-4e44-e49f-c32d154b241e"
      },
      "execution_count": null,
      "outputs": [
        {
          "output_type": "display_data",
          "data": {
            "text/plain": [
              "<Figure size 720x288 with 2 Axes>"
            ],
            "image/png": "[encoded data removed]"
          },
          "metadata": {
            "needs_background": "light"
          }
        }
      ]
    },
    {
      "cell_type": "code",
      "source": [
        "feature_importance = pd.DataFrame({'Feature': list(X_train.columns), 'Importance':random_forest.feature_importances_})\n",
        "feature_importance.sort_values(by='Importance',ascending=False, inplace=False)"
      ],
      "metadata": {
        "colab": {
          "base_uri": "https://localhost:8080/",
          "height": 424
        },
        "id": "_OO0thssY1oZ",
        "outputId": "b0bc76f9-9f4b-46c0-c524-698d7bac7f6b"
      },
      "execution_count": null,
      "outputs": [
        {
          "output_type": "execute_result",
          "data": {
            "text/plain": [
              "                       Feature  Importance\n",
              "1          Reco_Policy_Premium    0.079271\n",
              "0                    Lower_Age    0.070605\n",
              "5352  Accomodation_Type_Rented    0.015950\n",
              "5355       Health Indicator_X2    0.014046\n",
              "5378   Holding_Policy_Type_3.0    0.012756\n",
              "...                        ...         ...\n",
              "4088          Region_Code_4605    0.000000\n",
              "4860          Region_Code_5468    0.000000\n",
              "4861          Region_Code_5469    0.000000\n",
              "4862          Region_Code_5470    0.000000\n",
              "3859          Region_Code_4358    0.000000\n",
              "\n",
              "[5401 rows x 2 columns]"
            ],
            "text/html": [
              "\n",
              "  <div id=\"df-e4821874-df22-4165-9d44-25fcf3f91503\">\n",
              "    <div class=\"colab-df-container\">\n",
              "      <div>\n",
              "<style scoped>\n",
              "    .dataframe tbody tr th:only-of-type {\n",
              "        vertical-align: middle;\n",
              "    }\n",
              "\n",
              "    .dataframe tbody tr th {\n",
              "        vertical-align: top;\n",
              "    }\n",
              "\n",
              "    .dataframe thead th {\n",
              "        text-align: right;\n",
              "    }\n",
              "</style>\n",
              "<table border=\"1\" class=\"dataframe\">\n",
              "  <thead>\n",
              "    <tr style=\"text-align: right;\">\n",
              "      <th></th>\n",
              "      <th>Feature</th>\n",
              "      <th>Importance</th>\n",
              "    </tr>\n",
              "  </thead>\n",
              "  <tbody>\n",
              "    <tr>\n",
              "      <th>1</th>\n",
              "      <td>Reco_Policy_Premium</td>\n",
              "      <td>0.079271</td>\n",
              "    </tr>\n",
              "    <tr>\n",
              "      <th>0</th>\n",
              "      <td>Lower_Age</td>\n",
              "      <td>0.070605</td>\n",
              "    </tr>\n",
              "    <tr>\n",
              "      <th>5352</th>\n",
              "      <td>Accomodation_Type_Rented</td>\n",
              "      <td>0.015950</td>\n",
              "    </tr>\n",
              "    <tr>\n",
              "      <th>5355</th>\n",
              "      <td>Health Indicator_X2</td>\n",
              "      <td>0.014046</td>\n",
              "    </tr>\n",
              "    <tr>\n",
              "      <th>5378</th>\n",
              "      <td>Holding_Policy_Type_3.0</td>\n",
              "      <td>0.012756</td>\n",
              "    </tr>\n",
              "    <tr>\n",
              "      <th>...</th>\n",
              "      <td>...</td>\n",
              "      <td>...</td>\n",
              "    </tr>\n",
              "    <tr>\n",
              "      <th>4088</th>\n",
              "      <td>Region_Code_4605</td>\n",
              "      <td>0.000000</td>\n",
              "    </tr>\n",
              "    <tr>\n",
              "      <th>4860</th>\n",
              "      <td>Region_Code_5468</td>\n",
              "      <td>0.000000</td>\n",
              "    </tr>\n",
              "    <tr>\n",
              "      <th>4861</th>\n",
              "      <td>Region_Code_5469</td>\n",
              "      <td>0.000000</td>\n",
              "    </tr>\n",
              "    <tr>\n",
              "      <th>4862</th>\n",
              "      <td>Region_Code_5470</td>\n",
              "      <td>0.000000</td>\n",
              "    </tr>\n",
              "    <tr>\n",
              "      <th>3859</th>\n",
              "      <td>Region_Code_4358</td>\n",
              "      <td>0.000000</td>\n",
              "    </tr>\n",
              "  </tbody>\n",
              "</table>\n",
              "<p>5401 rows × 2 columns</p>\n",
              "</div>\n",
              "      <button class=\"colab-df-convert\" onclick=\"convertToInteractive('df-e4821874-df22-4165-9d44-25fcf3f91503')\"\n",
              "              title=\"Convert this dataframe to an interactive table.\"\n",
              "              style=\"display:none;\">\n",
              "        \n",
              "  <svg xmlns=\"http://www.w3.org/2000/svg\" height=\"24px\"viewBox=\"0 0 24 24\"\n",
              "       width=\"24px\">\n",
              "    <path d=\"M0 0h24v24H0V0z\" fill=\"none\"/>\n",
              "    <path d=\"M18.56 5.44l.94 2.06.94-2.06 2.06-.94-2.06-.94-.94-2.06-.94 2.06-2.06.94zm-11 1L8.5 8.5l.94-2.06 2.06-.94-2.06-.94L8.5 2.5l-.94 2.06-2.06.94zm10 10l.94 2.06.94-2.06 2.06-.94-2.06-.94-.94-2.06-.94 2.06-2.06.94z\"/><path d=\"M17.41 7.96l-1.37-1.37c-.4-.4-.92-.59-1.43-.59-.52 0-1.04.2-1.43.59L10.3 9.45l-7.72 7.72c-.78.78-.78 2.05 0 2.83L4 21.41c.39.39.9.59 1.41.59.51 0 1.02-.2 1.41-.59l7.78-7.78 2.81-2.81c.8-.78.8-2.07 0-2.86zM5.41 20L4 18.59l7.72-7.72 1.47 1.35L5.41 20z\"/>\n",
              "  </svg>\n",
              "      </button>\n",
              "      \n",
              "  <style>\n",
              "    .colab-df-container {\n",
              "      display:flex;\n",
              "      flex-wrap:wrap;\n",
              "      gap: 12px;\n",
              "    }\n",
              "\n",
              "    .colab-df-convert {\n",
              "      background-color: #E8F0FE;\n",
              "      border: none;\n",
              "      border-radius: 50%;\n",
              "      cursor: pointer;\n",
              "      display: none;\n",
              "      fill: #1967D2;\n",
              "      height: 32px;\n",
              "      padding: 0 0 0 0;\n",
              "      width: 32px;\n",
              "    }\n",
              "\n",
              "    .colab-df-convert:hover {\n",
              "      background-color: #E2EBFA;\n",
              "      box-shadow: 0px 1px 2px rgba(60, 64, 67, 0.3), 0px 1px 3px 1px rgba(60, 64, 67, 0.15);\n",
              "      fill: #174EA6;\n",
              "    }\n",
              "\n",
              "    [theme=dark] .colab-df-convert {\n",
              "      background-color: #3B4455;\n",
              "      fill: #D2E3FC;\n",
              "    }\n",
              "\n",
              "    [theme=dark] .colab-df-convert:hover {\n",
              "      background-color: #434B5C;\n",
              "      box-shadow: 0px 1px 3px 1px rgba(0, 0, 0, 0.15);\n",
              "      filter: drop-shadow(0px 1px 2px rgba(0, 0, 0, 0.3));\n",
              "      fill: #FFFFFF;\n",
              "    }\n",
              "  </style>\n",
              "\n",
              "      <script>\n",
              "        const buttonEl =\n",
              "          document.querySelector('#df-e4821874-df22-4165-9d44-25fcf3f91503 button.colab-df-convert');\n",
              "        buttonEl.style.display =\n",
              "          google.colab.kernel.accessAllowed ? 'block' : 'none';\n",
              "\n",
              "        async function convertToInteractive(key) {\n",
              "          const element = document.querySelector('#df-e4821874-df22-4165-9d44-25fcf3f91503');\n",
              "          const dataTable =\n",
              "            await google.colab.kernel.invokeFunction('convertToInteractive',\n",
              "                                                     [key], {});\n",
              "          if (!dataTable) return;\n",
              "\n",
              "          const docLinkHtml = 'Like what you see? Visit the ' +\n",
              "            '<a target=\"_blank\" href=https://colab.research.google.com/notebooks/data_table.ipynb>data table notebook</a>'\n",
              "            + ' to learn more about interactive tables.';\n",
              "          element.innerHTML = '';\n",
              "          dataTable['output_type'] = 'display_data';\n",
              "          await google.colab.output.renderOutput(dataTable, element);\n",
              "          const docLink = document.createElement('div');\n",
              "          docLink.innerHTML = docLinkHtml;\n",
              "          element.appendChild(docLink);\n",
              "        }\n",
              "      </script>\n",
              "    </div>\n",
              "  </div>\n",
              "  "
            ]
          },
          "metadata": {},
          "execution_count": 58
        }
      ]
    },
    {
      "cell_type": "code",
      "source": [
        "feat_importances = pd.Series(random_forest.feature_importances_, index=X.columns)\n",
        "feat_importances.nlargest(20).plot(kind='barh')"
      ],
      "metadata": {
        "colab": {
          "base_uri": "https://localhost:8080/",
          "height": 283
        },
        "id": "sEaVK4y3aqLj",
        "outputId": "76be7066-9e67-4c64-8e25-51f5bbb5e821"
      },
      "execution_count": null,
      "outputs": [
        {
          "output_type": "execute_result",
          "data": {
            "text/plain": [
              "<matplotlib.axes._subplots.AxesSubplot at 0x7f3ce7e51880>"
            ]
          },
          "metadata": {},
          "execution_count": 65
        },
        {
          "output_type": "display_data",
          "data": {
            "text/plain": [
              "<Figure size 432x288 with 1 Axes>"
            ],
            "image/png": "[encoded data removed]"
          },
          "metadata": {
            "needs_background": "light"
          }
        }
      ]
    }
  ]
}